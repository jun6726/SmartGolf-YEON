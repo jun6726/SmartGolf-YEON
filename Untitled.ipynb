{
 "cells": [
  {
   "cell_type": "code",
   "execution_count": 1,
   "metadata": {},
   "outputs": [],
   "source": [
    "import tensorflow as tf"
   ]
  },
  {
   "cell_type": "code",
   "execution_count": 2,
   "metadata": {},
   "outputs": [
    {
     "name": "stderr",
     "output_type": "stream",
     "text": [
      "Using TensorFlow backend.\n"
     ]
    }
   ],
   "source": [
    "import keras as k"
   ]
  },
  {
   "cell_type": "code",
   "execution_count": 80,
   "metadata": {},
   "outputs": [],
   "source": [
    "import pandas as pd\n",
    "import numpy as np"
   ]
  },
  {
   "cell_type": "code",
   "execution_count": 12,
   "metadata": {},
   "outputs": [],
   "source": [
    "import matplotlib\n",
    "import matplotlib.pyplot as plt\n",
    "#jupyter Notebook 내부에 그래프를 출력하도록 설정\n",
    "%matplotlib inline\n",
    "import seaborn as sns"
   ]
  },
  {
   "cell_type": "code",
   "execution_count": 63,
   "metadata": {},
   "outputs": [],
   "source": [
    "data = pd.read_csv(\"test swing2_lac.csv\")"
   ]
  },
  {
   "cell_type": "code",
   "execution_count": 64,
   "metadata": {},
   "outputs": [
    {
     "name": "stdout",
     "output_type": "stream",
     "text": [
      "<class 'pandas.core.frame.DataFrame'>\n",
      "RangeIndex: 66 entries, 0 to 65\n",
      "Data columns (total 4 columns):\n",
      "time       66 non-null object\n",
      "X_value    66 non-null object\n",
      "Y_value    66 non-null object\n",
      "Z_value    66 non-null object\n",
      "dtypes: object(4)\n",
      "memory usage: 2.2+ KB\n"
     ]
    }
   ],
   "source": [
    "data.info()"
   ]
  },
  {
   "cell_type": "code",
   "execution_count": 65,
   "metadata": {},
   "outputs": [
    {
     "data": {
      "text/html": [
       "<div>\n",
       "<style scoped>\n",
       "    .dataframe tbody tr th:only-of-type {\n",
       "        vertical-align: middle;\n",
       "    }\n",
       "\n",
       "    .dataframe tbody tr th {\n",
       "        vertical-align: top;\n",
       "    }\n",
       "\n",
       "    .dataframe thead th {\n",
       "        text-align: right;\n",
       "    }\n",
       "</style>\n",
       "<table border=\"1\" class=\"dataframe\">\n",
       "  <thead>\n",
       "    <tr style=\"text-align: right;\">\n",
       "      <th></th>\n",
       "      <th>time</th>\n",
       "      <th>X_value</th>\n",
       "      <th>Y_value</th>\n",
       "      <th>Z_value</th>\n",
       "    </tr>\n",
       "  </thead>\n",
       "  <tbody>\n",
       "    <tr>\n",
       "      <th>0</th>\n",
       "      <td>Started:</td>\n",
       "      <td>8월 19 2019</td>\n",
       "      <td>09:55:50:928</td>\n",
       "      <td></td>\n",
       "    </tr>\n",
       "    <tr>\n",
       "      <th>1</th>\n",
       "      <td>0.0000</td>\n",
       "      <td>0.00000</td>\n",
       "      <td>0.00000</td>\n",
       "      <td>0.00000</td>\n",
       "    </tr>\n",
       "    <tr>\n",
       "      <th>2</th>\n",
       "      <td>0.0071</td>\n",
       "      <td>0.71371</td>\n",
       "      <td>0.31256</td>\n",
       "      <td>-0.27222</td>\n",
       "    </tr>\n",
       "    <tr>\n",
       "      <th>3</th>\n",
       "      <td>0.0660</td>\n",
       "      <td>0.50045</td>\n",
       "      <td>0.38314</td>\n",
       "      <td>-0.16955</td>\n",
       "    </tr>\n",
       "    <tr>\n",
       "      <th>4</th>\n",
       "      <td>0.1166</td>\n",
       "      <td>0.41398</td>\n",
       "      <td>0.40956</td>\n",
       "      <td>-0.26286</td>\n",
       "    </tr>\n",
       "  </tbody>\n",
       "</table>\n",
       "</div>"
      ],
      "text/plain": [
       "       time     X_value       Y_value   Z_value\n",
       "0  Started:  8월 19 2019  09:55:50:928          \n",
       "1    0.0000     0.00000       0.00000   0.00000\n",
       "2    0.0071     0.71371       0.31256  -0.27222\n",
       "3    0.0660     0.50045       0.38314  -0.16955\n",
       "4    0.1166     0.41398       0.40956  -0.26286"
      ]
     },
     "execution_count": 65,
     "metadata": {},
     "output_type": "execute_result"
    }
   ],
   "source": [
    "data.head()"
   ]
  },
  {
   "cell_type": "code",
   "execution_count": 66,
   "metadata": {},
   "outputs": [
    {
     "data": {
      "text/html": [
       "<div>\n",
       "<style scoped>\n",
       "    .dataframe tbody tr th:only-of-type {\n",
       "        vertical-align: middle;\n",
       "    }\n",
       "\n",
       "    .dataframe tbody tr th {\n",
       "        vertical-align: top;\n",
       "    }\n",
       "\n",
       "    .dataframe thead th {\n",
       "        text-align: right;\n",
       "    }\n",
       "</style>\n",
       "<table border=\"1\" class=\"dataframe\">\n",
       "  <thead>\n",
       "    <tr style=\"text-align: right;\">\n",
       "      <th></th>\n",
       "      <th>time</th>\n",
       "      <th>X_value</th>\n",
       "      <th>Y_value</th>\n",
       "      <th>Z_value</th>\n",
       "    </tr>\n",
       "  </thead>\n",
       "  <tbody>\n",
       "    <tr>\n",
       "      <th>0</th>\n",
       "      <td>Started:</td>\n",
       "      <td>8월 19 2019</td>\n",
       "      <td>09:55:50:928</td>\n",
       "      <td></td>\n",
       "    </tr>\n",
       "    <tr>\n",
       "      <th>1</th>\n",
       "      <td>0.0000</td>\n",
       "      <td>0.00000</td>\n",
       "      <td>0.00000</td>\n",
       "      <td>0.00000</td>\n",
       "    </tr>\n",
       "    <tr>\n",
       "      <th>2</th>\n",
       "      <td>0.0071</td>\n",
       "      <td>0.71371</td>\n",
       "      <td>0.31256</td>\n",
       "      <td>-0.27222</td>\n",
       "    </tr>\n",
       "    <tr>\n",
       "      <th>3</th>\n",
       "      <td>0.0660</td>\n",
       "      <td>0.50045</td>\n",
       "      <td>0.38314</td>\n",
       "      <td>-0.16955</td>\n",
       "    </tr>\n",
       "    <tr>\n",
       "      <th>4</th>\n",
       "      <td>0.1166</td>\n",
       "      <td>0.41398</td>\n",
       "      <td>0.40956</td>\n",
       "      <td>-0.26286</td>\n",
       "    </tr>\n",
       "  </tbody>\n",
       "</table>\n",
       "</div>"
      ],
      "text/plain": [
       "       time     X_value       Y_value   Z_value\n",
       "0  Started:  8월 19 2019  09:55:50:928          \n",
       "1    0.0000     0.00000       0.00000   0.00000\n",
       "2    0.0071     0.71371       0.31256  -0.27222\n",
       "3    0.0660     0.50045       0.38314  -0.16955\n",
       "4    0.1166     0.41398       0.40956  -0.26286"
      ]
     },
     "execution_count": 66,
     "metadata": {},
     "output_type": "execute_result"
    }
   ],
   "source": [
    "data.head()"
   ]
  },
  {
   "cell_type": "code",
   "execution_count": 72,
   "metadata": {},
   "outputs": [
    {
     "data": {
      "text/plain": [
       "(66, 4)"
      ]
     },
     "execution_count": 72,
     "metadata": {},
     "output_type": "execute_result"
    }
   ],
   "source": [
    "data.shape"
   ]
  },
  {
   "cell_type": "code",
   "execution_count": 70,
   "metadata": {},
   "outputs": [],
   "source": [
    "sub_set = data.iloc[1:61,1:]"
   ]
  },
  {
   "cell_type": "code",
   "execution_count": 73,
   "metadata": {
    "scrolled": true
   },
   "outputs": [
    {
     "data": {
      "text/plain": [
       "(60, 3)"
      ]
     },
     "execution_count": 73,
     "metadata": {},
     "output_type": "execute_result"
    }
   ],
   "source": [
    "sub_set.shape"
   ]
  },
  {
   "cell_type": "code",
   "execution_count": 88,
   "metadata": {},
   "outputs": [
    {
     "data": {
      "text/plain": [
       "Index(['X_value', 'Y_value', 'Z_value'], dtype='object')"
      ]
     },
     "execution_count": 88,
     "metadata": {},
     "output_type": "execute_result"
    }
   ],
   "source": [
    "sub_set.columns"
   ]
  },
  {
   "cell_type": "code",
   "execution_count": 74,
   "metadata": {},
   "outputs": [],
   "source": [
    "necessary_col = ['X_value','Y_value','Z_value']\n",
    "\n",
    "for col in [x for x in data.columns if x in necessary_col]:\n",
    "    sub_set[col] = sub_set[col].astype(float)"
   ]
  },
  {
   "cell_type": "code",
   "execution_count": 76,
   "metadata": {
    "scrolled": true
   },
   "outputs": [
    {
     "data": {
      "text/html": [
       "<div>\n",
       "<style scoped>\n",
       "    .dataframe tbody tr th:only-of-type {\n",
       "        vertical-align: middle;\n",
       "    }\n",
       "\n",
       "    .dataframe tbody tr th {\n",
       "        vertical-align: top;\n",
       "    }\n",
       "\n",
       "    .dataframe thead th {\n",
       "        text-align: right;\n",
       "    }\n",
       "</style>\n",
       "<table border=\"1\" class=\"dataframe\">\n",
       "  <thead>\n",
       "    <tr style=\"text-align: right;\">\n",
       "      <th></th>\n",
       "      <th>X_value</th>\n",
       "      <th>Y_value</th>\n",
       "      <th>Z_value</th>\n",
       "    </tr>\n",
       "  </thead>\n",
       "  <tbody>\n",
       "    <tr>\n",
       "      <th>1</th>\n",
       "      <td>0.00000</td>\n",
       "      <td>0.00000</td>\n",
       "      <td>0.00000</td>\n",
       "    </tr>\n",
       "    <tr>\n",
       "      <th>2</th>\n",
       "      <td>0.71371</td>\n",
       "      <td>0.31256</td>\n",
       "      <td>-0.27222</td>\n",
       "    </tr>\n",
       "    <tr>\n",
       "      <th>3</th>\n",
       "      <td>0.50045</td>\n",
       "      <td>0.38314</td>\n",
       "      <td>-0.16955</td>\n",
       "    </tr>\n",
       "    <tr>\n",
       "      <th>4</th>\n",
       "      <td>0.41398</td>\n",
       "      <td>0.40956</td>\n",
       "      <td>-0.26286</td>\n",
       "    </tr>\n",
       "    <tr>\n",
       "      <th>5</th>\n",
       "      <td>0.30983</td>\n",
       "      <td>0.37051</td>\n",
       "      <td>-0.36986</td>\n",
       "    </tr>\n",
       "    <tr>\n",
       "      <th>6</th>\n",
       "      <td>0.39592</td>\n",
       "      <td>0.24032</td>\n",
       "      <td>-0.22240</td>\n",
       "    </tr>\n",
       "    <tr>\n",
       "      <th>7</th>\n",
       "      <td>0.26070</td>\n",
       "      <td>0.11530</td>\n",
       "      <td>-0.48937</td>\n",
       "    </tr>\n",
       "    <tr>\n",
       "      <th>8</th>\n",
       "      <td>0.09575</td>\n",
       "      <td>-0.08927</td>\n",
       "      <td>-0.35268</td>\n",
       "    </tr>\n",
       "    <tr>\n",
       "      <th>9</th>\n",
       "      <td>-0.00784</td>\n",
       "      <td>-0.06275</td>\n",
       "      <td>-0.32523</td>\n",
       "    </tr>\n",
       "    <tr>\n",
       "      <th>10</th>\n",
       "      <td>0.05054</td>\n",
       "      <td>-0.02159</td>\n",
       "      <td>-0.13739</td>\n",
       "    </tr>\n",
       "    <tr>\n",
       "      <th>11</th>\n",
       "      <td>0.17755</td>\n",
       "      <td>0.04461</td>\n",
       "      <td>-0.14693</td>\n",
       "    </tr>\n",
       "    <tr>\n",
       "      <th>12</th>\n",
       "      <td>0.25983</td>\n",
       "      <td>0.10295</td>\n",
       "      <td>0.28739</td>\n",
       "    </tr>\n",
       "    <tr>\n",
       "      <th>13</th>\n",
       "      <td>0.12285</td>\n",
       "      <td>0.03992</td>\n",
       "      <td>0.48615</td>\n",
       "    </tr>\n",
       "    <tr>\n",
       "      <th>14</th>\n",
       "      <td>0.02873</td>\n",
       "      <td>-0.01971</td>\n",
       "      <td>0.44391</td>\n",
       "    </tr>\n",
       "    <tr>\n",
       "      <th>15</th>\n",
       "      <td>-0.16421</td>\n",
       "      <td>0.09465</td>\n",
       "      <td>0.39637</td>\n",
       "    </tr>\n",
       "    <tr>\n",
       "      <th>16</th>\n",
       "      <td>0.00146</td>\n",
       "      <td>0.26729</td>\n",
       "      <td>0.30146</td>\n",
       "    </tr>\n",
       "    <tr>\n",
       "      <th>17</th>\n",
       "      <td>0.00858</td>\n",
       "      <td>0.40095</td>\n",
       "      <td>0.06072</td>\n",
       "    </tr>\n",
       "    <tr>\n",
       "      <th>18</th>\n",
       "      <td>0.16477</td>\n",
       "      <td>0.29644</td>\n",
       "      <td>0.28307</td>\n",
       "    </tr>\n",
       "    <tr>\n",
       "      <th>19</th>\n",
       "      <td>0.50852</td>\n",
       "      <td>0.32541</td>\n",
       "      <td>0.89330</td>\n",
       "    </tr>\n",
       "    <tr>\n",
       "      <th>20</th>\n",
       "      <td>1.49109</td>\n",
       "      <td>0.65017</td>\n",
       "      <td>1.56513</td>\n",
       "    </tr>\n",
       "    <tr>\n",
       "      <th>21</th>\n",
       "      <td>2.10400</td>\n",
       "      <td>0.95508</td>\n",
       "      <td>1.52882</td>\n",
       "    </tr>\n",
       "    <tr>\n",
       "      <th>22</th>\n",
       "      <td>2.65689</td>\n",
       "      <td>1.04102</td>\n",
       "      <td>2.32163</td>\n",
       "    </tr>\n",
       "    <tr>\n",
       "      <th>23</th>\n",
       "      <td>1.54236</td>\n",
       "      <td>0.19580</td>\n",
       "      <td>2.67069</td>\n",
       "    </tr>\n",
       "    <tr>\n",
       "      <th>24</th>\n",
       "      <td>-0.23664</td>\n",
       "      <td>-1.13924</td>\n",
       "      <td>2.66719</td>\n",
       "    </tr>\n",
       "    <tr>\n",
       "      <th>25</th>\n",
       "      <td>-1.76553</td>\n",
       "      <td>-2.18125</td>\n",
       "      <td>2.47132</td>\n",
       "    </tr>\n",
       "    <tr>\n",
       "      <th>26</th>\n",
       "      <td>-2.06450</td>\n",
       "      <td>-2.34502</td>\n",
       "      <td>0.99793</td>\n",
       "    </tr>\n",
       "    <tr>\n",
       "      <th>27</th>\n",
       "      <td>-1.68650</td>\n",
       "      <td>-2.12181</td>\n",
       "      <td>-0.15478</td>\n",
       "    </tr>\n",
       "    <tr>\n",
       "      <th>28</th>\n",
       "      <td>-0.92580</td>\n",
       "      <td>-2.28538</td>\n",
       "      <td>-0.58773</td>\n",
       "    </tr>\n",
       "    <tr>\n",
       "      <th>29</th>\n",
       "      <td>0.04062</td>\n",
       "      <td>-3.39541</td>\n",
       "      <td>-0.00087</td>\n",
       "    </tr>\n",
       "    <tr>\n",
       "      <th>30</th>\n",
       "      <td>0.98603</td>\n",
       "      <td>-5.01529</td>\n",
       "      <td>0.57731</td>\n",
       "    </tr>\n",
       "    <tr>\n",
       "      <th>31</th>\n",
       "      <td>1.20359</td>\n",
       "      <td>-6.84380</td>\n",
       "      <td>1.51573</td>\n",
       "    </tr>\n",
       "    <tr>\n",
       "      <th>32</th>\n",
       "      <td>0.19918</td>\n",
       "      <td>-8.64992</td>\n",
       "      <td>2.11383</td>\n",
       "    </tr>\n",
       "    <tr>\n",
       "      <th>33</th>\n",
       "      <td>0.45867</td>\n",
       "      <td>-12.40708</td>\n",
       "      <td>3.55337</td>\n",
       "    </tr>\n",
       "    <tr>\n",
       "      <th>34</th>\n",
       "      <td>-0.15353</td>\n",
       "      <td>-19.46847</td>\n",
       "      <td>5.27776</td>\n",
       "    </tr>\n",
       "    <tr>\n",
       "      <th>35</th>\n",
       "      <td>3.14710</td>\n",
       "      <td>-31.32574</td>\n",
       "      <td>4.93237</td>\n",
       "    </tr>\n",
       "    <tr>\n",
       "      <th>36</th>\n",
       "      <td>11.05650</td>\n",
       "      <td>-41.53513</td>\n",
       "      <td>6.56397</td>\n",
       "    </tr>\n",
       "    <tr>\n",
       "      <th>37</th>\n",
       "      <td>18.21868</td>\n",
       "      <td>-41.47631</td>\n",
       "      <td>10.90190</td>\n",
       "    </tr>\n",
       "    <tr>\n",
       "      <th>38</th>\n",
       "      <td>17.96791</td>\n",
       "      <td>-34.65085</td>\n",
       "      <td>10.25507</td>\n",
       "    </tr>\n",
       "    <tr>\n",
       "      <th>39</th>\n",
       "      <td>19.41964</td>\n",
       "      <td>-27.04098</td>\n",
       "      <td>11.85801</td>\n",
       "    </tr>\n",
       "    <tr>\n",
       "      <th>40</th>\n",
       "      <td>18.31423</td>\n",
       "      <td>-20.37062</td>\n",
       "      <td>12.71388</td>\n",
       "    </tr>\n",
       "    <tr>\n",
       "      <th>41</th>\n",
       "      <td>18.12328</td>\n",
       "      <td>-15.23756</td>\n",
       "      <td>10.15727</td>\n",
       "    </tr>\n",
       "    <tr>\n",
       "      <th>42</th>\n",
       "      <td>14.71816</td>\n",
       "      <td>-11.74876</td>\n",
       "      <td>6.71235</td>\n",
       "    </tr>\n",
       "    <tr>\n",
       "      <th>43</th>\n",
       "      <td>10.44113</td>\n",
       "      <td>-9.37267</td>\n",
       "      <td>4.04254</td>\n",
       "    </tr>\n",
       "    <tr>\n",
       "      <th>44</th>\n",
       "      <td>6.03324</td>\n",
       "      <td>-7.89960</td>\n",
       "      <td>4.47287</td>\n",
       "    </tr>\n",
       "    <tr>\n",
       "      <th>45</th>\n",
       "      <td>3.10808</td>\n",
       "      <td>-6.08967</td>\n",
       "      <td>4.24381</td>\n",
       "    </tr>\n",
       "    <tr>\n",
       "      <th>46</th>\n",
       "      <td>2.31105</td>\n",
       "      <td>-4.09746</td>\n",
       "      <td>6.35984</td>\n",
       "    </tr>\n",
       "    <tr>\n",
       "      <th>47</th>\n",
       "      <td>0.84338</td>\n",
       "      <td>-3.26294</td>\n",
       "      <td>6.91198</td>\n",
       "    </tr>\n",
       "    <tr>\n",
       "      <th>48</th>\n",
       "      <td>-0.82575</td>\n",
       "      <td>-3.14482</td>\n",
       "      <td>7.07631</td>\n",
       "    </tr>\n",
       "    <tr>\n",
       "      <th>49</th>\n",
       "      <td>-2.93972</td>\n",
       "      <td>-3.22308</td>\n",
       "      <td>4.77968</td>\n",
       "    </tr>\n",
       "    <tr>\n",
       "      <th>50</th>\n",
       "      <td>-4.23554</td>\n",
       "      <td>-2.33568</td>\n",
       "      <td>2.17870</td>\n",
       "    </tr>\n",
       "    <tr>\n",
       "      <th>51</th>\n",
       "      <td>-3.60446</td>\n",
       "      <td>-1.22042</td>\n",
       "      <td>1.14816</td>\n",
       "    </tr>\n",
       "    <tr>\n",
       "      <th>52</th>\n",
       "      <td>-3.15786</td>\n",
       "      <td>-0.48139</td>\n",
       "      <td>0.06874</td>\n",
       "    </tr>\n",
       "    <tr>\n",
       "      <th>53</th>\n",
       "      <td>-2.31938</td>\n",
       "      <td>-0.15849</td>\n",
       "      <td>0.27384</td>\n",
       "    </tr>\n",
       "    <tr>\n",
       "      <th>54</th>\n",
       "      <td>-1.70229</td>\n",
       "      <td>-0.00384</td>\n",
       "      <td>0.08732</td>\n",
       "    </tr>\n",
       "    <tr>\n",
       "      <th>55</th>\n",
       "      <td>-0.94030</td>\n",
       "      <td>0.07225</td>\n",
       "      <td>0.15049</td>\n",
       "    </tr>\n",
       "    <tr>\n",
       "      <th>56</th>\n",
       "      <td>-0.55900</td>\n",
       "      <td>0.13024</td>\n",
       "      <td>0.16506</td>\n",
       "    </tr>\n",
       "    <tr>\n",
       "      <th>57</th>\n",
       "      <td>-0.09754</td>\n",
       "      <td>0.18251</td>\n",
       "      <td>0.02282</td>\n",
       "    </tr>\n",
       "    <tr>\n",
       "      <th>58</th>\n",
       "      <td>0.28612</td>\n",
       "      <td>0.28381</td>\n",
       "      <td>-0.05032</td>\n",
       "    </tr>\n",
       "    <tr>\n",
       "      <th>59</th>\n",
       "      <td>0.38035</td>\n",
       "      <td>0.29150</td>\n",
       "      <td>-0.30285</td>\n",
       "    </tr>\n",
       "    <tr>\n",
       "      <th>60</th>\n",
       "      <td>0.53917</td>\n",
       "      <td>0.24086</td>\n",
       "      <td>-0.26557</td>\n",
       "    </tr>\n",
       "  </tbody>\n",
       "</table>\n",
       "</div>"
      ],
      "text/plain": [
       "     X_value   Y_value   Z_value\n",
       "1    0.00000   0.00000   0.00000\n",
       "2    0.71371   0.31256  -0.27222\n",
       "3    0.50045   0.38314  -0.16955\n",
       "4    0.41398   0.40956  -0.26286\n",
       "5    0.30983   0.37051  -0.36986\n",
       "6    0.39592   0.24032  -0.22240\n",
       "7    0.26070   0.11530  -0.48937\n",
       "8    0.09575  -0.08927  -0.35268\n",
       "9   -0.00784  -0.06275  -0.32523\n",
       "10   0.05054  -0.02159  -0.13739\n",
       "11   0.17755   0.04461  -0.14693\n",
       "12   0.25983   0.10295   0.28739\n",
       "13   0.12285   0.03992   0.48615\n",
       "14   0.02873  -0.01971   0.44391\n",
       "15  -0.16421   0.09465   0.39637\n",
       "16   0.00146   0.26729   0.30146\n",
       "17   0.00858   0.40095   0.06072\n",
       "18   0.16477   0.29644   0.28307\n",
       "19   0.50852   0.32541   0.89330\n",
       "20   1.49109   0.65017   1.56513\n",
       "21   2.10400   0.95508   1.52882\n",
       "22   2.65689   1.04102   2.32163\n",
       "23   1.54236   0.19580   2.67069\n",
       "24  -0.23664  -1.13924   2.66719\n",
       "25  -1.76553  -2.18125   2.47132\n",
       "26  -2.06450  -2.34502   0.99793\n",
       "27  -1.68650  -2.12181  -0.15478\n",
       "28  -0.92580  -2.28538  -0.58773\n",
       "29   0.04062  -3.39541  -0.00087\n",
       "30   0.98603  -5.01529   0.57731\n",
       "31   1.20359  -6.84380   1.51573\n",
       "32   0.19918  -8.64992   2.11383\n",
       "33   0.45867 -12.40708   3.55337\n",
       "34  -0.15353 -19.46847   5.27776\n",
       "35   3.14710 -31.32574   4.93237\n",
       "36  11.05650 -41.53513   6.56397\n",
       "37  18.21868 -41.47631  10.90190\n",
       "38  17.96791 -34.65085  10.25507\n",
       "39  19.41964 -27.04098  11.85801\n",
       "40  18.31423 -20.37062  12.71388\n",
       "41  18.12328 -15.23756  10.15727\n",
       "42  14.71816 -11.74876   6.71235\n",
       "43  10.44113  -9.37267   4.04254\n",
       "44   6.03324  -7.89960   4.47287\n",
       "45   3.10808  -6.08967   4.24381\n",
       "46   2.31105  -4.09746   6.35984\n",
       "47   0.84338  -3.26294   6.91198\n",
       "48  -0.82575  -3.14482   7.07631\n",
       "49  -2.93972  -3.22308   4.77968\n",
       "50  -4.23554  -2.33568   2.17870\n",
       "51  -3.60446  -1.22042   1.14816\n",
       "52  -3.15786  -0.48139   0.06874\n",
       "53  -2.31938  -0.15849   0.27384\n",
       "54  -1.70229  -0.00384   0.08732\n",
       "55  -0.94030   0.07225   0.15049\n",
       "56  -0.55900   0.13024   0.16506\n",
       "57  -0.09754   0.18251   0.02282\n",
       "58   0.28612   0.28381  -0.05032\n",
       "59   0.38035   0.29150  -0.30285\n",
       "60   0.53917   0.24086  -0.26557"
      ]
     },
     "execution_count": 76,
     "metadata": {},
     "output_type": "execute_result"
    }
   ],
   "source": [
    "sub_set"
   ]
  },
  {
   "cell_type": "code",
   "execution_count": 127,
   "metadata": {
    "scrolled": true
   },
   "outputs": [
    {
     "data": {
      "text/plain": [
       "Text(0.5, 1.0, 'accelation')"
      ]
     },
     "execution_count": 127,
     "metadata": {},
     "output_type": "execute_result"
    },
    {
     "data": {
      "image/png": "[encoded data removed]",
      "text/plain": [
       "<Figure size 432x288 with 1 Axes>"
      ]
     },
     "metadata": {
      "needs_background": "light"
     },
     "output_type": "display_data"
    }
   ],
   "source": [
    "timeStamp = data['time'][1:61].astype(float)\n",
    "plt.plot(timeStamp,sub_set.X_value)\n",
    "plt.plot(timeStamp,sub_set.Y_value)\n",
    "plt.plot(timeStamp,sub_set.Z_value)\n",
    "plt.legend(['x','y','z'])\n",
    "plt.title(\"accelation\")"
   ]
  },
  {
   "cell_type": "code",
   "execution_count": 104,
   "metadata": {
    "scrolled": true
   },
   "outputs": [],
   "source": [
    "X_temp = np.array([[[sub_set['X_value']],[sub_set['Y_value']],[sub_set['Z_value']]]])"
   ]
  },
  {
   "cell_type": "code",
   "execution_count": 112,
   "metadata": {},
   "outputs": [],
   "source": [
    "X_temp = np.array([[sub_set['X_value'],sub_set['Y_value'],sub_set['Z_value']]])\n",
    "y_temp = 1"
   ]
  },
  {
   "cell_type": "code",
   "execution_count": 110,
   "metadata": {},
   "outputs": [
    {
     "data": {
      "text/plain": [
       "(1, 3, 60)"
      ]
     },
     "execution_count": 110,
     "metadata": {},
     "output_type": "execute_result"
    }
   ],
   "source": [
    "X_temp.shape"
   ]
  },
  {
   "cell_type": "code",
   "execution_count": 111,
   "metadata": {
    "scrolled": true
   },
   "outputs": [
    {
     "data": {
      "text/plain": [
       "array([[[ 0.000000e+00,  7.137100e-01,  5.004500e-01,  4.139800e-01,\n",
       "          3.098300e-01,  3.959200e-01,  2.607000e-01,  9.575000e-02,\n",
       "         -7.840000e-03,  5.054000e-02,  1.775500e-01,  2.598300e-01,\n",
       "          1.228500e-01,  2.873000e-02, -1.642100e-01,  1.460000e-03,\n",
       "          8.580000e-03,  1.647700e-01,  5.085200e-01,  1.491090e+00,\n",
       "          2.104000e+00,  2.656890e+00,  1.542360e+00, -2.366400e-01,\n",
       "         -1.765530e+00, -2.064500e+00, -1.686500e+00, -9.258000e-01,\n",
       "          4.062000e-02,  9.860300e-01,  1.203590e+00,  1.991800e-01,\n",
       "          4.586700e-01, -1.535300e-01,  3.147100e+00,  1.105650e+01,\n",
       "          1.821868e+01,  1.796791e+01,  1.941964e+01,  1.831423e+01,\n",
       "          1.812328e+01,  1.471816e+01,  1.044113e+01,  6.033240e+00,\n",
       "          3.108080e+00,  2.311050e+00,  8.433800e-01, -8.257500e-01,\n",
       "         -2.939720e+00, -4.235540e+00, -3.604460e+00, -3.157860e+00,\n",
       "         -2.319380e+00, -1.702290e+00, -9.403000e-01, -5.590000e-01,\n",
       "         -9.754000e-02,  2.861200e-01,  3.803500e-01,  5.391700e-01],\n",
       "        [ 0.000000e+00,  3.125600e-01,  3.831400e-01,  4.095600e-01,\n",
       "          3.705100e-01,  2.403200e-01,  1.153000e-01, -8.927000e-02,\n",
       "         -6.275000e-02, -2.159000e-02,  4.461000e-02,  1.029500e-01,\n",
       "          3.992000e-02, -1.971000e-02,  9.465000e-02,  2.672900e-01,\n",
       "          4.009500e-01,  2.964400e-01,  3.254100e-01,  6.501700e-01,\n",
       "          9.550800e-01,  1.041020e+00,  1.958000e-01, -1.139240e+00,\n",
       "         -2.181250e+00, -2.345020e+00, -2.121810e+00, -2.285380e+00,\n",
       "         -3.395410e+00, -5.015290e+00, -6.843800e+00, -8.649920e+00,\n",
       "         -1.240708e+01, -1.946847e+01, -3.132574e+01, -4.153513e+01,\n",
       "         -4.147631e+01, -3.465085e+01, -2.704098e+01, -2.037062e+01,\n",
       "         -1.523756e+01, -1.174876e+01, -9.372670e+00, -7.899600e+00,\n",
       "         -6.089670e+00, -4.097460e+00, -3.262940e+00, -3.144820e+00,\n",
       "         -3.223080e+00, -2.335680e+00, -1.220420e+00, -4.813900e-01,\n",
       "         -1.584900e-01, -3.840000e-03,  7.225000e-02,  1.302400e-01,\n",
       "          1.825100e-01,  2.838100e-01,  2.915000e-01,  2.408600e-01],\n",
       "        [ 0.000000e+00, -2.722200e-01, -1.695500e-01, -2.628600e-01,\n",
       "         -3.698600e-01, -2.224000e-01, -4.893700e-01, -3.526800e-01,\n",
       "         -3.252300e-01, -1.373900e-01, -1.469300e-01,  2.873900e-01,\n",
       "          4.861500e-01,  4.439100e-01,  3.963700e-01,  3.014600e-01,\n",
       "          6.072000e-02,  2.830700e-01,  8.933000e-01,  1.565130e+00,\n",
       "          1.528820e+00,  2.321630e+00,  2.670690e+00,  2.667190e+00,\n",
       "          2.471320e+00,  9.979300e-01, -1.547800e-01, -5.877300e-01,\n",
       "         -8.700000e-04,  5.773100e-01,  1.515730e+00,  2.113830e+00,\n",
       "          3.553370e+00,  5.277760e+00,  4.932370e+00,  6.563970e+00,\n",
       "          1.090190e+01,  1.025507e+01,  1.185801e+01,  1.271388e+01,\n",
       "          1.015727e+01,  6.712350e+00,  4.042540e+00,  4.472870e+00,\n",
       "          4.243810e+00,  6.359840e+00,  6.911980e+00,  7.076310e+00,\n",
       "          4.779680e+00,  2.178700e+00,  1.148160e+00,  6.874000e-02,\n",
       "          2.738400e-01,  8.732000e-02,  1.504900e-01,  1.650600e-01,\n",
       "          2.282000e-02, -5.032000e-02, -3.028500e-01, -2.655700e-01]]])"
      ]
     },
     "execution_count": 111,
     "metadata": {},
     "output_type": "execute_result"
    }
   ],
   "source": [
    "X_temp"
   ]
  },
  {
   "cell_type": "code",
   "execution_count": 117,
   "metadata": {},
   "outputs": [],
   "source": [
    "X_temp2 = np.array([[sub_set['X_value'],sub_set['Y_value'],sub_set['Z_value']]])\n",
    "t = np.concatenate((X_temp, X_temp2), axis = 0)\n"
   ]
  },
  {
   "cell_type": "code",
   "execution_count": 118,
   "metadata": {},
   "outputs": [
    {
     "data": {
      "text/plain": [
       "(2, 3, 60)"
      ]
     },
     "execution_count": 118,
     "metadata": {},
     "output_type": "execute_result"
    }
   ],
   "source": [
    "t.shape"
   ]
  },
  {
   "cell_type": "code",
   "execution_count": 120,
   "metadata": {},
   "outputs": [],
   "source": [
    "y_temp  = [1,1]"
   ]
  },
  {
   "cell_type": "code",
   "execution_count": 121,
   "metadata": {},
   "outputs": [],
   "source": [
    "from keras.utils import np_utils"
   ]
  },
  {
   "cell_type": "code",
   "execution_count": 122,
   "metadata": {},
   "outputs": [],
   "source": [
    "y_temp = np_utils.to_categorical(y_temp)\n",
    "one_hot_vec_size = y_temp.shape[1]"
   ]
  },
  {
   "cell_type": "code",
   "execution_count": 124,
   "metadata": {},
   "outputs": [
    {
     "data": {
      "text/plain": [
       "array([[0., 1.],\n",
       "       [0., 1.]], dtype=float32)"
      ]
     },
     "execution_count": 124,
     "metadata": {},
     "output_type": "execute_result"
    }
   ],
   "source": [
    "y_temp"
   ]
  }
 ],
 "metadata": {
  "kernelspec": {
   "display_name": "Python 3",
   "language": "python",
   "name": "python3"
  },
  "language_info": {
   "codemirror_mode": {
    "name": "ipython",
    "version": 3
   },
   "file_extension": ".py",
   "mimetype": "text/x-python",
   "name": "python",
   "nbconvert_exporter": "python",
   "pygments_lexer": "ipython3",
   "version": "3.7.4"
  }
 },
 "nbformat": 4,
 "nbformat_minor": 2
}
