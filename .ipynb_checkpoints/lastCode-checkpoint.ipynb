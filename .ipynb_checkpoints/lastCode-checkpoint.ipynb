{
 "cells": [
  {
   "cell_type": "code",
   "execution_count": null,
   "metadata": {},
   "outputs": [],
   "source": [
    "from glob import glob\n",
    "from os import path\n",
    "from pandas import read_csv, concat\n",
    "from csv import writer\n",
    "import matplotlib.pyplot as plt\n",
    "import numpy as np\n",
    "import pandas as pd\n",
    "import pickle\n",
    "import matplotlib.pyplot as plt\n",
    "from scipy import stats\n",
    "import tensorflow as tf\n",
    "import seaborn as sns\n",
    "from pylab import rcParams\n",
    "from sklearn import metrics\n",
    "from sklearn.model_selection import train_test_split\n",
    "\n",
    "%matplotlib inline"
   ]
  },
  {
   "cell_type": "code",
   "execution_count": null,
   "metadata": {},
   "outputs": [],
   "source": [
    "#load data\n",
    "folder_path = './csv/SwingData/'\n",
    "\n",
    "#파일 형식: s1_gyr.csv\n",
    "swing_files = glob(path.join(folder_path, 'Golf*.csv'))\n",
    "\n",
    "df_swing = concat((read_csv(f,header=0) for f in swing_files),ignore_index=True)\n",
    "df_swing.fillna(0, inplace=True)\n",
    "\n",
    "#load data\n",
    "folder_path = './csv/PertingData/'\n",
    "\n",
    "#파일 형식: s1_gyr.csv\n",
    "perting_files2 = glob(path.join(folder_path, 'Golf*.csv'))\n",
    "\n",
    "df_perting = concat((read_csv(f,header=0) for f in perting_files2),ignore_index=True)\n",
    "df_perting.fillna(0, inplace=True)\n"
   ]
  },
  {
   "cell_type": "code",
   "execution_count": null,
   "metadata": {},
   "outputs": [],
   "source": [
    "df_swing.head()"
   ]
  },
  {
   "cell_type": "code",
   "execution_count": null,
   "metadata": {},
   "outputs": [],
   "source": [
    "df_swing = df_swing.iloc[:,:4]\n",
    "df_swing.head()"
   ]
  },
  {
   "cell_type": "code",
   "execution_count": null,
   "metadata": {},
   "outputs": [],
   "source": [
    "df_perting = df_perting.iloc[:,:4]\n",
    "df_perting.head()"
   ]
  },
  {
   "cell_type": "code",
   "execution_count": null,
   "metadata": {},
   "outputs": [],
   "source": [
    "import basicfunc2"
   ]
  },
  {
   "cell_type": "code",
   "execution_count": null,
   "metadata": {},
   "outputs": [],
   "source": [
    "df_swing.columns"
   ]
  },
  {
   "cell_type": "code",
   "execution_count": null,
   "metadata": {},
   "outputs": [],
   "source": [
    "def plotgrp(df,title):\n",
    "    start,end = 1,1\n",
    "    \n",
    "    columns = df.columns\n",
    "    for i in range(1,len(df)):\n",
    "      \n",
    "    \n",
    "        if df['Time'][i] == 'Started:':\n",
    "            end = i-1\n",
    "            subset = df[start:end][1:].astype(float)\n",
    "            x_len = len(subset)\n",
    "            plt.plot([x for x in range(x_len)],subset[columns[1]],color='r')\n",
    "            plt.plot([x for x in range(x_len)],subset[columns[2]],color = 'g')\n",
    "            plt.plot([x for x in range(x_len)],subset[columns[3]],color='b')\n",
    "            start = i+1 \n",
    "        \n",
    "        plt.legend(['X','Y','Z'])\n",
    "        plt.title(title)\n"
   ]
  },
  {
   "cell_type": "code",
   "execution_count": null,
   "metadata": {},
   "outputs": [],
   "source": [
    "plotgrp(df_swing,\"swing\")"
   ]
  },
  {
   "cell_type": "code",
   "execution_count": null,
   "metadata": {},
   "outputs": [],
   "source": [
    "plotgrp(df_perting,\"perting\")"
   ]
  },
  {
   "cell_type": "code",
   "execution_count": null,
   "metadata": {},
   "outputs": [],
   "source": [
    "seqlen = 150"
   ]
  },
  {
   "cell_type": "code",
   "execution_count": null,
   "metadata": {},
   "outputs": [],
   "source": [
    "X = np.empty(shape=(1,seqlen,3))\n",
    "y = []\n",
    "#swing은 1 perting은 0\n",
    "start = 1\n",
    "end = 0\n",
    "\n",
    "for i in range(1,len(df_swing)):\n",
    "    if i==len(df_swing)-1:\n",
    "        end = i-1\n",
    "\n",
    "        subset= df_swing.iloc[start:end,1:].astype(float)\n",
    "        subset= basicfunc2.resizedataseq(subset,seqlen)\n",
    "        start = i+1\n",
    "        if len(subset) == seqlen:\n",
    "            subset = subset.values\n",
    "            subset=subset[np.newaxis]\n",
    "            X =np.concatenate((X,subset))\n",
    "            y.append(1)\n",
    "\n",
    "            \n",
    "    if df_swing['Time'][i] == 'Started:':\n",
    "        end = i-1\n",
    "        subset= df_swing.iloc[start:end,1:].astype(float)\n",
    "        subset= basicfunc2.resizedataseq(subset,seqlen)\n",
    "        start = i+1\n",
    "        if len(subset) == seqlen:\n",
    "            subset = subset.values\n",
    "            subset=subset[np.newaxis]\n",
    "            X =np.concatenate((X,subset))\n",
    "            y.append(1)\n",
    "        \n",
    "        \n",
    "print(X.shape)"
   ]
  },
  {
   "cell_type": "code",
   "execution_count": null,
   "metadata": {},
   "outputs": [],
   "source": [
    "X=np.delete(X,0,axis=0)"
   ]
  },
  {
   "cell_type": "code",
   "execution_count": null,
   "metadata": {},
   "outputs": [],
   "source": [
    "#swing은 1 perting은 0\n",
    "start = 1\n",
    "end = 0\n",
    "\n",
    "for i in range(1,len(df_perting)):\n",
    "    if i==len(df_perting)-1:\n",
    "        end = i-1\n",
    "        subset= df_perting.iloc[start:end,1:].astype(float)\n",
    "        subset= basicfunc2.resizedataseq(subset,seqlen)\n",
    "        start = i+1\n",
    "        if len(subset) == seqlen:\n",
    "            subset = subset.values\n",
    "            subset=subset[np.newaxis]\n",
    "            X =np.concatenate((X,subset))\n",
    "            y.append(0)\n",
    "\n",
    "            \n",
    "    if df_perting['Time'][i] == 'Started:':\n",
    "        end = i-1\n",
    "        subset= df_perting.iloc[start:end,1:].astype(float)\n",
    "        subset= basicfunc2.resizedataseq(subset,seqlen)\n",
    "        start = i+1\n",
    "        \n",
    "        if len(subset) == seqlen:\n",
    "            subset = subset.values\n",
    "            subset=subset[np.newaxis]\n",
    "            X =np.concatenate((X,subset))\n",
    "            y.append(0)\n",
    "        \n",
    "        \n",
    "print(X.shape)"
   ]
  },
  {
   "cell_type": "markdown",
   "metadata": {},
   "source": [
    "###  onehot encoding"
   ]
  },
  {
   "cell_type": "code",
   "execution_count": null,
   "metadata": {},
   "outputs": [],
   "source": [
    "y = np.asanyarray(pd.get_dummies(y),dtype = np.float32)"
   ]
  },
  {
   "cell_type": "code",
   "execution_count": null,
   "metadata": {},
   "outputs": [],
   "source": [
    "X_train, X_test, y_train, y_test = train_test_split(X,y,test_size=0.2,\n",
    "                                                    shuffle=True,\n",
    "                                                    random_state=1)"
   ]
  },
  {
   "cell_type": "code",
   "execution_count": null,
   "metadata": {},
   "outputs": [],
   "source": [
    "N_CLASSES = 2\n",
    "N_HIDDEN_UNITS = 64"
   ]
  },
  {
   "cell_type": "code",
   "execution_count": null,
   "metadata": {},
   "outputs": [],
   "source": [
    "N_TIME_STEPS = seqlen\n",
    "N_FEATURES = 3"
   ]
  },
  {
   "cell_type": "code",
   "execution_count": null,
   "metadata": {},
   "outputs": [],
   "source": [
    "def create_LSTM_model(inputs):\n",
    "    W = {\n",
    "        'hidden': tf.Variable(tf.random_normal([N_FEATURES, N_HIDDEN_UNITS])),\n",
    "        'output': tf.Variable(tf.random_normal([N_HIDDEN_UNITS, N_CLASSES]))\n",
    "    }\n",
    "    biases = {\n",
    "        'hidden': tf.Variable(tf.random_normal([N_HIDDEN_UNITS], mean=1.0)),\n",
    "        'output': tf.Variable(tf.random_normal([N_CLASSES]))\n",
    "    }\n",
    "    \n",
    "    X = tf.transpose(inputs, [1, 0, 2])\n",
    "    X = tf.reshape(X, [-1, N_FEATURES])\n",
    "    hidden = tf.nn.relu(tf.matmul(X, W['hidden']) + biases['hidden'])\n",
    "    hidden = tf.split(hidden, N_TIME_STEPS, 0)\n",
    "\n",
    "    # Stack 2 LSTM layers\n",
    "    lstm_layers = [tf.contrib.rnn.BasicLSTMCell(N_HIDDEN_UNITS, forget_bias=1.0) for _ in range(2)]\n",
    "    lstm_layers = tf.contrib.rnn.MultiRNNCell(lstm_layers)\n",
    "\n",
    "    outputs, _ = tf.contrib.rnn.static_rnn(lstm_layers, hidden, dtype=tf.float32)\n",
    "\n",
    "    # Get output for the last time step\n",
    "    lstm_last_output = outputs[-1]\n",
    "\n",
    "    return tf.matmul(lstm_last_output, W['output']) + biases['output']"
   ]
  },
  {
   "cell_type": "code",
   "execution_count": null,
   "metadata": {},
   "outputs": [],
   "source": [
    "tf.reset_default_graph()\n",
    "\n",
    "X = tf.placeholder(tf.float32, [None, N_TIME_STEPS, N_FEATURES], name=\"input\")\n",
    "Y = tf.placeholder(tf.float32, [None, N_CLASSES])"
   ]
  },
  {
   "cell_type": "code",
   "execution_count": null,
   "metadata": {},
   "outputs": [],
   "source": [
    "pred_Y = create_LSTM_model(X)\n",
    "\n",
    "pred_sigmoid = tf.nn.sigmoid(pred_Y, name=\"y_\")"
   ]
  },
  {
   "cell_type": "code",
   "execution_count": null,
   "metadata": {},
   "outputs": [],
   "source": [
    "L2_LOSS = 0.0015\n",
    "\n",
    "l2 = L2_LOSS * \\\n",
    "    sum(tf.nn.l2_loss(tf_var) for tf_var in tf.trainable_variables())\n",
    "\n",
    "loss = tf.reduce_mean(tf.nn.sigmoid_cross_entropy_with_logits(logits = pred_Y, labels = Y)) + l2"
   ]
  },
  {
   "cell_type": "code",
   "execution_count": null,
   "metadata": {},
   "outputs": [],
   "source": [
    "LEARNING_RATE = 0.001\n",
    "\n",
    "optimizer = tf.train.AdamOptimizer(learning_rate=LEARNING_RATE).minimize(loss)\n",
    "\n",
    "correct_pred = tf.equal(tf.argmax(pred_sigmoid, 1), tf.argmax(Y, 1))\n",
    "accuracy = tf.reduce_mean(tf.cast(correct_pred, dtype=tf.float32))"
   ]
  },
  {
   "cell_type": "code",
   "execution_count": null,
   "metadata": {},
   "outputs": [],
   "source": [
    "N_EPOCHS = 30\n",
    "BATCH_SIZE = 64"
   ]
  },
  {
   "cell_type": "code",
   "execution_count": null,
   "metadata": {},
   "outputs": [],
   "source": [
    "saver = tf.train.Saver()\n",
    "\n",
    "history = dict(train_loss=[], \n",
    "                     train_acc=[], \n",
    "                     test_loss=[], \n",
    "                     test_acc=[])\n",
    "\n",
    "sess=tf.InteractiveSession()\n",
    "sess.run(tf.global_variables_initializer())\n",
    "\n",
    "train_count = len(X_train)\n",
    "\n",
    "for i in range(1, N_EPOCHS + 1):\n",
    "    for start, end in zip(range(0, train_count, BATCH_SIZE),\n",
    "                          range(BATCH_SIZE, train_count + 1,BATCH_SIZE)):\n",
    "        sess.run(optimizer, feed_dict={X: X_train,\n",
    "                                       Y: y_train})\n",
    "\n",
    "    _, acc_train, loss_train = sess.run([pred_softmax, accuracy, loss], feed_dict={\n",
    "                                            X: X_train, Y: y_train})\n",
    "\n",
    "    _, acc_test, loss_test = sess.run([pred_softmax, accuracy, loss], feed_dict={\n",
    "                                            X: X_test, Y: y_test})\n",
    "\n",
    "    history['train_loss'].append(loss_train)\n",
    "    history['train_acc'].append(acc_train)\n",
    "    history['test_loss'].append(loss_test)\n",
    "    history['test_acc'].append(acc_test)\n",
    "\n",
    "    if i != 1 and i % 10 != 0:\n",
    "        continue\n",
    "\n",
    "    print(f'epoch: {i} test accuracy: {acc_test} loss: {loss_test}')\n",
    "    \n",
    "predictions, acc_final, loss_final = sess.run([pred_sigmoid, accuracy, loss], feed_dict={X: X_test, Y: y_test})\n",
    "\n",
    "print()\n",
    "print(f'final results: accuracy: {acc_final} loss: {loss_final}')"
   ]
  },
  {
   "cell_type": "code",
   "execution_count": null,
   "metadata": {},
   "outputs": [],
   "source": [
    "pickle.dump(predictions, open(\"predictions.p\", \"wb\"))\n",
    "pickle.dump(history, open(\"history.p\", \"wb\"))\n",
    "tf.train.write_graph(sess.graph_def, '.', './checkpoint/har.pbtxt')  \n",
    "saver.save(sess, save_path = \"./checkpoint/har.ckpt\")\n",
    "sess.close()\n"
   ]
  }
 ],
 "metadata": {
  "kernelspec": {
   "display_name": "Python 3",
   "language": "python",
   "name": "python3"
  },
  "language_info": {
   "codemirror_mode": {
    "name": "ipython",
    "version": 3
   },
   "file_extension": ".py",
   "mimetype": "text/x-python",
   "name": "python",
   "nbconvert_exporter": "python",
   "pygments_lexer": "ipython3",
   "version": "3.7.4"
  }
 },
 "nbformat": 4,
 "nbformat_minor": 2
}
