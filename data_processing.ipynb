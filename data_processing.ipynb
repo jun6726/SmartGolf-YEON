{
 "cells": [
  {
   "cell_type": "code",
   "execution_count": 52,
   "metadata": {},
   "outputs": [],
   "source": [
    "from glob import glob\n",
    "from os import path\n",
    "from pandas import read_csv, concat\n",
    "from csv import writer\n",
    "\n"
   ]
  },
  {
   "cell_type": "code",
   "execution_count": 53,
   "metadata": {},
   "outputs": [],
   "source": [
    "#load data\n",
    "folder_path = './csv/'\n",
    "\n",
    "golf_files = glob(path.join(folder_path, 'golf?.csv'))\n",
    "\n",
    "bat_files = glob(path.join(folder_path,'bat?.csv'))\n",
    "\n",
    "df_golf = concat((read_csv(f,header=0) for f in golf_files),ignore_index=True)\n",
    "\n",
    "df_bat = concat((read_csv(f,header=0) for f in bat_files),ignore_index=True)\n",
    "\n",
    "df_golf.fillna(0, inplace=True)\n",
    "\n",
    "df_bat.fillna(0,inplace=True)\n",
    "\n",
    "#df_golf = dataframe.values"
   ]
  },
  {
   "cell_type": "code",
   "execution_count": 54,
   "metadata": {},
   "outputs": [
    {
     "name": "stdout",
     "output_type": "stream",
     "text": [
      "(626, 4)\n",
      "(214, 4)\n"
     ]
    }
   ],
   "source": [
    "print(df_golf.shape)\n",
    "print(df_bat.shape)"
   ]
  },
  {
   "cell_type": "code",
   "execution_count": 55,
   "metadata": {
    "scrolled": true
   },
   "outputs": [
    {
     "data": {
      "text/plain": [
       "(       time     X_value       Y_value   Z_value\n",
       " 0  Started:  8월 19 2019  15:06:36:902          \n",
       " 1    0.0000     0.00000       0.00000   0.00000\n",
       " 2    0.0030    -0.17909      -0.15016  -0.11115\n",
       " 3    0.0446     0.17801      -0.11336   0.67382\n",
       " 4    0.0854    -0.31890      -0.06111   0.24877,\n",
       "        time     X_value       Y_value   Z_value\n",
       " 0  Started:  8월 19 2019  15:17:00:489          \n",
       " 1    0.0000     0.00000       0.00000   0.00000\n",
       " 2    0.0058    -0.05916       0.15918  -0.43768\n",
       " 3    0.0467    -0.17029       0.09638  -0.48570\n",
       " 4    0.0889    -0.10369       0.11444  -0.31798)"
      ]
     },
     "execution_count": 55,
     "metadata": {},
     "output_type": "execute_result"
    }
   ],
   "source": [
    "df_golf.head(),df_bat.head()"
   ]
  },
  {
   "cell_type": "code",
   "execution_count": 56,
   "metadata": {},
   "outputs": [
    {
     "name": "stdout",
     "output_type": "stream",
     "text": [
      "<class 'pandas.core.frame.DataFrame'>\n",
      "RangeIndex: 626 entries, 0 to 625\n",
      "Data columns (total 4 columns):\n",
      "time       626 non-null object\n",
      "X_value    626 non-null object\n",
      "Y_value    626 non-null object\n",
      "Z_value    626 non-null object\n",
      "dtypes: object(4)\n",
      "memory usage: 19.7+ KB\n",
      "<class 'pandas.core.frame.DataFrame'>\n",
      "RangeIndex: 214 entries, 0 to 213\n",
      "Data columns (total 4 columns):\n",
      "time       214 non-null object\n",
      "X_value    214 non-null object\n",
      "Y_value    214 non-null object\n",
      "Z_value    214 non-null object\n",
      "dtypes: object(4)\n",
      "memory usage: 6.8+ KB\n"
     ]
    },
    {
     "data": {
      "text/plain": [
       "(None, None)"
      ]
     },
     "execution_count": 56,
     "metadata": {},
     "output_type": "execute_result"
    }
   ],
   "source": [
    "df_golf.info(),df_bat.info()"
   ]
  },
  {
   "cell_type": "code",
   "execution_count": 57,
   "metadata": {},
   "outputs": [
    {
     "data": {
      "text/plain": [
       "array([0.        , 0.20689655, 0.4137931 , 0.62068966, 0.82758621,\n",
       "       1.03448276, 1.24137931, 1.44827586, 1.65517241, 1.86206897,\n",
       "       2.06896552, 2.27586207, 2.48275862, 2.68965517, 2.89655172,\n",
       "       3.10344828, 3.31034483, 3.51724138, 3.72413793, 3.93103448,\n",
       "       4.13793103, 4.34482759, 4.55172414, 4.75862069, 4.96551724,\n",
       "       5.17241379, 5.37931034, 5.5862069 , 5.79310345, 6.        ])"
      ]
     },
     "execution_count": 57,
     "metadata": {},
     "output_type": "execute_result"
    }
   ],
   "source": [
    "import numpy as np\n",
    "import matplotlib as plt\n",
    "\n",
    "timestamp = np.linspace(0,6,30)\n",
    "timestamp"
   ]
  },
  {
   "cell_type": "code",
   "execution_count": 65,
   "metadata": {},
   "outputs": [
    {
     "name": "stdout",
     "output_type": "stream",
     "text": [
      "Started:\n",
      "Started:\n",
      "Started:\n",
      "Started:\n",
      "Started:\n"
     ]
    }
   ],
   "source": [
    "for x in df_golf['time']:\n",
    "    if x=='Started:':\n",
    "        print(x)"
   ]
  },
  {
   "cell_type": "code",
   "execution_count": 58,
   "metadata": {},
   "outputs": [],
   "source": [
    "import matplotlib.pyplot as plt\n",
    "%matplotlib inline"
   ]
  },
  {
   "cell_type": "code",
   "execution_count": 72,
   "metadata": {},
   "outputs": [],
   "source": [
    "def resizedataseq(df,):\n",
    "    Qx = list(df.iloc[:,0])\n",
    "    Qy = list(df.iloc[:,1])\n",
    "    Qz = list(df.iloc[:,2])\n",
    "\n",
    "    seqlen = len(df)\n",
    "    \n",
    "    while seqlen != 120:\n",
    "        mx = np.mean(Qx)\n",
    "        my = np.mean(Qy)\n",
    "        mz = np.mean(Qz)\n",
    "\n",
    "        if seqlen <120:\n",
    "            Qx.pop(0)\n",
    "            Qy.pop(0)\n",
    "            Qz.pop(0)\n",
    "            Qx.append(mx)\n",
    "            Qy.append(my)\n",
    "            Qz.append(mz)\n",
    "            #행추가\n",
    "            df.loc[seqlen]=[mx,my,mz]\n",
    "            seqlen = seqlen+1\n",
    "        \n",
    "        \n",
    "        elif seqlen > 120:\n",
    "            #행삭제\n",
    "            df = df.iloc[:121,:]\n",
    "            seqlen = 120\n",
    "            break\n",
    "            \n",
    "        \n",
    "    return df"
   ]
  },
  {
   "cell_type": "code",
   "execution_count": 76,
   "metadata": {},
   "outputs": [
    {
     "name": "stdout",
     "output_type": "stream",
     "text": [
      "time       2.638500\n",
      "X_value    5.048469\n",
      "Y_value   -5.274066\n",
      "Z_value    2.737568\n",
      "dtype: float64\n",
      "      X_value   Y_value   Z_value\n",
      "1     0.00000   0.00000   0.00000\n",
      "2    -0.05916   0.15918  -0.43768\n",
      "3    -0.17029   0.09638  -0.48570\n",
      "4    -0.10369   0.11444  -0.31798\n",
      "5    -0.07467   0.18640  -0.36741\n",
      "..        ...       ...       ...\n",
      "129   4.75198  -1.49400   2.39574\n",
      "130   4.72406  -2.23556   2.51714\n",
      "131   4.89727  -2.64750   2.50230\n",
      "132   4.70497  -3.07137   2.47574\n",
      "133   4.45040  -3.30456   2.56422\n",
      "\n",
      "[133 rows x 3 columns]\n",
      "       time  X_value  Y_value  Z_value\n",
      "2    0.0030 -0.17909 -0.15016 -0.11115\n",
      "3    0.0446  0.17801 -0.11336  0.67382\n",
      "4    0.0854 -0.31890 -0.06111  0.24877\n",
      "5    0.1246 -0.10264 -0.20874 -0.83756\n",
      "6    0.1660 -0.18509 -0.26998 -1.04321\n",
      "..      ...      ...      ...      ...\n",
      "129  5.1112  0.06006  0.01913  3.41351\n",
      "130  5.1510 -0.17541 -0.13363  3.00818\n",
      "131  5.1905 -0.30748 -0.21351  2.68463\n",
      "132  5.2300 -0.30407 -0.29684  2.26684\n",
      "133  5.2699 -0.41958 -0.41178  2.03182\n",
      "\n",
      "[132 rows x 4 columns]\n",
      "time       2.502980\n",
      "X_value    5.488972\n",
      "Y_value   -6.559484\n",
      "Z_value    5.172625\n",
      "dtype: float64\n",
      "      X_value   Y_value   Z_value\n",
      "136   4.14956  -4.09271   2.71784\n",
      "137   3.52745  -4.46406   3.18992\n",
      "138   3.39401  -4.73070   3.45295\n",
      "139   3.03056  -5.31956   3.60069\n",
      "140   1.98968  -6.03056   4.17602\n",
      "..        ...       ...       ...\n",
      "209  -1.09162  -0.43311  -0.22701\n",
      "210  -0.82597  -0.06184  -0.54460\n",
      "211  -0.66607   0.18086  -0.80036\n",
      "212  -0.42033   0.35092  -1.16028\n",
      "213  -0.11575   0.45193  -1.07602\n",
      "\n",
      "[78 rows x 3 columns]\n",
      "       time  X_value  Y_value  Z_value\n",
      "137  0.0010 -0.38965 -0.42871  1.62013\n",
      "138  0.0383 -0.33363 -0.38944  1.42483\n",
      "139  0.0785 -0.28180 -0.32163  1.11841\n",
      "140  0.1192 -0.05512 -0.24616  0.85155\n",
      "141  0.1585  0.06349 -0.20592  0.60114\n",
      "..      ...      ...      ...      ...\n",
      "258  4.8463 -1.38703 -3.38035  1.83315\n",
      "259  4.8873 -1.25919 -2.89686  1.36884\n",
      "260  4.9361 -1.07745 -2.34682  0.81819\n",
      "261  4.9826 -0.92290 -1.90784  0.43060\n",
      "262  5.0067 -0.76416 -1.55713  0.04859\n",
      "\n",
      "[126 rows x 4 columns]\n",
      "time       2.432838\n",
      "X_value    7.148894\n",
      "Y_value   -8.872053\n",
      "Z_value    5.891454\n",
      "dtype: float64\n",
      "Empty DataFrame\n",
      "Columns: [X_value, Y_value, Z_value]\n",
      "Index: []\n",
      "       time  X_value  Y_value  Z_value\n",
      "266  0.0029 -0.39132 -0.94398 -0.02991\n",
      "267  0.0428 -0.30588 -0.76251  0.10348\n",
      "268  0.0833 -0.15286 -0.60094  0.00609\n",
      "269  0.1238 -0.05235 -0.52874 -0.15212\n",
      "270  0.1643 -0.04265 -0.43424 -0.11785\n",
      "..      ...      ...      ...      ...\n",
      "383  4.6988  1.28694 -0.94896  0.64841\n",
      "384  4.7341  1.20504 -0.92371  0.45830\n",
      "385  4.7780  1.05992 -0.89605  0.30861\n",
      "386  4.8139  1.15514 -0.94752  0.32326\n",
      "387  4.8530  1.20009 -0.99905  0.03336\n",
      "\n",
      "[122 rows x 4 columns]\n",
      "time       2.305031\n",
      "X_value    5.572535\n",
      "Y_value   -9.221043\n",
      "Z_value    3.843399\n",
      "dtype: float64\n",
      "Empty DataFrame\n",
      "Columns: [X_value, Y_value, Z_value]\n",
      "Index: []\n",
      "       time  X_value  Y_value  Z_value\n",
      "391  0.0011  0.99029 -0.98694 -0.04649\n",
      "392  0.0404  0.66020 -0.77886 -0.05816\n",
      "393  0.0801  0.44474 -0.63683  0.07856\n",
      "394  0.1194  0.25648 -0.53441  0.19013\n",
      "395  0.1586  0.21557 -0.40386  0.14249\n",
      "..      ...      ...      ...      ...\n",
      "502  4.4514 -3.08752 -0.03048  3.38455\n",
      "503  4.4915 -2.81689 -0.18398  2.81711\n",
      "504  4.5285 -2.58177 -0.39649  2.40644\n",
      "505  4.5682 -2.39862 -0.55031  1.56421\n",
      "506  4.6091 -2.07918 -0.69086  1.20290\n",
      "\n",
      "[116 rows x 4 columns]\n",
      "time       2.298204\n",
      "X_value    5.246685\n",
      "Y_value   -9.808804\n",
      "Z_value    3.526935\n",
      "dtype: float64\n"
     ]
    },
    {
     "data": {
      "text/plain": [
       "Text(0.5, 1.0, 'golf')"
      ]
     },
     "execution_count": 76,
     "metadata": {},
     "output_type": "execute_result"
    },
    {
     "data": {
      "image/png": "[encoded data removed]",
      "text/plain": [
       "<Figure size 432x288 with 1 Axes>"
      ]
     },
     "metadata": {
      "needs_background": "light"
     },
     "output_type": "display_data"
    }
   ],
   "source": [
    "golf_label = \"golf\"\n",
    "\n",
    "golf_dataset = []\n",
    "start = 1\n",
    "end = 0\n",
    "\n",
    "\n",
    "for i in range(1,len(df_golf)):\n",
    "    if i==len(df_golf)-1:\n",
    "        end = i\n",
    "        subset = df_golf[start:end][1:].astype(float)\n",
    "        plt.plot(subset['time'],subset['X_value'],color='r')\n",
    "        plt.plot(subset['time'],subset['Y_value'],color = 'g')\n",
    "        plt.plot(subset['time'],subset['Z_value'],color='b')\n",
    "        print(np.mean(subset))\n",
    "        \n",
    "    \n",
    "    if df_golf['time'][i] == 'Started:':\n",
    "        end = i-1\n",
    "        #print(df_golf[start:end][1:].astype(float))\n",
    "        subset = df_golf[start:end][1:].astype(float)\n",
    "        plt.plot(subset['time'],subset['X_value'],color='r')\n",
    "        plt.plot(subset['time'],subset['Y_value'],color = 'g')\n",
    "        plt.plot(subset['time'],subset['Z_value'],color='b')\n",
    "        print(np.mean(subset))\n",
    "        print(df_bat.iloc[start:end,1:])\n",
    "        #subset= df_bat.iloc[start:end,1:].astype(float)\n",
    "        #subset = resizedataseq(subset)\n",
    "        print(subset)\n",
    "        start = i+1 \n",
    "    \n",
    "        \n",
    "plt.legend(['X','Y','Z'])\n",
    "plt.title(\"golf\")\n",
    "        \n",
    "    \n",
    "        \n",
    "        #df = df.drop(i) #float으로 형변환이 불가능한 "
   ]
  },
  {
   "cell_type": "code",
   "execution_count": 74,
   "metadata": {
    "scrolled": false
   },
   "outputs": [
    {
     "name": "stdout",
     "output_type": "stream",
     "text": [
      "time       2.305031\n",
      "X_value    5.572535\n",
      "Y_value   -9.221043\n",
      "Z_value    3.843399\n",
      "dtype: float64\n",
      "(119, 3)\n",
      "time       2.303966\n",
      "X_value    5.505570\n",
      "Y_value   -5.966436\n",
      "Z_value    4.308702\n",
      "dtype: float64\n"
     ]
    },
    {
     "data": {
      "text/plain": [
       "Text(0.5, 1.0, 'bat')"
      ]
     },
     "execution_count": 74,
     "metadata": {},
     "output_type": "execute_result"
    },
    {
     "data": {
      "image/png": "[encoded data removed]",
      "text/plain": [
       "<Figure size 432x288 with 1 Axes>"
      ]
     },
     "metadata": {
      "needs_background": "light"
     },
     "output_type": "display_data"
    }
   ],
   "source": [
    "\n",
    "bat_dataset = []\n",
    "start = 1\n",
    "end = 0\n",
    "\n",
    "\n",
    "for i in range(1,len(df_bat)):\n",
    "    if i==len(df_bat)-1:\n",
    "        end = i\n",
    "        subset = df_bat[start:end][1:].astype(float)\n",
    "        plt.plot(subset['time'],subset['X_value'],color='r')\n",
    "        plt.plot(subset['time'],subset['Y_value'],color = 'g')\n",
    "        plt.plot(subset['time'],subset['Z_value'],color='b')\n",
    "        print(np.mean(subset))\n",
    "            \n",
    "    \n",
    "    if df_bat['time'][i] == 'Started:':\n",
    "        end = i-1\n",
    "        #print(df_golf[start:end][1:].astype(float))\n",
    "        #subset = df_bat[start:end][1:].astype(float)\n",
    "        plt.plot(subset['time'],subset['X_value'],color='r')\n",
    "        plt.plot(subset['time'],subset['Y_value'],color = 'g')\n",
    "        plt.plot(subset['time'],subset['Z_value'],color='b')\n",
    "        print(np.mean(subset))\n",
    "        subset= df_bat.iloc[start:end,1:].astype(float)\n",
    "        resizedataseq(subset)\n",
    "        subset = subset.values\n",
    "        print(subset.shape)\n",
    "        start = i+1 \n",
    "        \n",
    "plt.legend(['X','Y','Z'])\n",
    "plt.title(\"bat\")\n",
    "        "
   ]
  },
  {
   "cell_type": "markdown",
   "metadata": {},
   "source": [
    "##  주어진 데이터로는 두 스윙간의 차이를 구분하기 어려움."
   ]
  },
  {
   "cell_type": "code",
   "execution_count": null,
   "metadata": {},
   "outputs": [],
   "source": [
    "\n",
    "    "
   ]
  },
  {
   "cell_type": "code",
   "execution_count": null,
   "metadata": {},
   "outputs": [],
   "source": []
  }
 ],
 "metadata": {
  "kernelspec": {
   "display_name": "Python 3",
   "language": "python",
   "name": "python3"
  },
  "language_info": {
   "codemirror_mode": {
    "name": "ipython",
    "version": 3
   },
   "file_extension": ".py",
   "mimetype": "text/x-python",
   "name": "python",
   "nbconvert_exporter": "python",
   "pygments_lexer": "ipython3",
   "version": "3.7.4"
  }
 },
 "nbformat": 4,
 "nbformat_minor": 2
}
