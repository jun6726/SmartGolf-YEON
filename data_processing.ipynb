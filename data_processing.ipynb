{
 "cells": [
  {
   "cell_type": "code",
   "execution_count": 12,
   "metadata": {},
   "outputs": [],
   "source": [
    "from glob import glob\n",
    "from os import path\n",
    "from pandas import read_csv, concat\n",
    "from csv import writer\n",
    "\n"
   ]
  },
  {
   "cell_type": "code",
   "execution_count": 13,
   "metadata": {},
   "outputs": [],
   "source": [
    "#load data\n",
    "folder_path = './csv/Angular_swing30/'\n",
    "\n",
    "#파일 형식: s1_gyr.csv\n",
    "swing_files = glob(path.join(folder_path, 's*_gyr.csv'))\n",
    "\n",
    "df_swing = concat((read_csv(f,header=0) for f in swing_files),ignore_index=True)\n",
    "df_swing.fillna(0, inplace=True)\n",
    "\n",
    "#load data\n",
    "folder_path = './csv/Angular_perting30/'\n",
    "\n",
    "#파일 형식: s1_gyr.csv\n",
    "perting_files2 = glob(path.join(folder_path, 'p*_gyr.csv'))\n",
    "\n",
    "df_perting = concat((read_csv(f,header=0) for f in perting_files2),ignore_index=True)\n",
    "df_perting.fillna(0, inplace=True)\n",
    "\n",
    "df_swing.fillna(0, inplace=True)\n",
    "df_perting.fillna(0, inplace=True)"
   ]
  },
  {
   "cell_type": "code",
   "execution_count": 15,
   "metadata": {},
   "outputs": [
    {
     "name": "stdout",
     "output_type": "stream",
     "text": [
      "(4485, 4)\n",
      "(2809, 4)\n"
     ]
    }
   ],
   "source": [
    "print(df_swing.shape)\n",
    "print(df_perting.shape)"
   ]
  },
  {
   "cell_type": "code",
   "execution_count": 18,
   "metadata": {
    "scrolled": true
   },
   "outputs": [
    {
     "data": {
      "text/plain": [
       "(       time     X_value       Y_value   Z_value\n",
       " 0  Started:  8월 21 2019  10:32:44:533          \n",
       " 1    0.0000     0.00000       0.00000   0.00000\n",
       " 2    0.0005    -0.61352       0.40110  -0.80188\n",
       " 3    0.0327    -0.47874       0.34446  -0.62287\n",
       " 4    0.0663    -0.36801       0.30112  -0.48450,\n",
       "        time     X_value       Y_value  Z_value\n",
       " 0  Started:  8월 21 2019  11:12:12:974         \n",
       " 1    0.0000     0.00000       0.00000  0.00000\n",
       " 2    0.0005    -0.08245       0.10290  0.03318\n",
       " 3    0.0318    -0.08241       0.08221  0.01994\n",
       " 4    0.0659    -0.07358       0.06220  0.01002)"
      ]
     },
     "execution_count": 18,
     "metadata": {},
     "output_type": "execute_result"
    }
   ],
   "source": [
    "df_swing.head(),df_perting.head()"
   ]
  },
  {
   "cell_type": "code",
   "execution_count": 19,
   "metadata": {},
   "outputs": [
    {
     "name": "stdout",
     "output_type": "stream",
     "text": [
      "<class 'pandas.core.frame.DataFrame'>\n",
      "RangeIndex: 4485 entries, 0 to 4484\n",
      "Data columns (total 4 columns):\n",
      "time       4485 non-null object\n",
      "X_value    4485 non-null object\n",
      "Y_value    4485 non-null object\n",
      "Z_value    4485 non-null object\n",
      "dtypes: object(4)\n",
      "memory usage: 140.3+ KB\n",
      "<class 'pandas.core.frame.DataFrame'>\n",
      "RangeIndex: 2809 entries, 0 to 2808\n",
      "Data columns (total 4 columns):\n",
      "time       2809 non-null object\n",
      "X_value    2809 non-null object\n",
      "Y_value    2809 non-null object\n",
      "Z_value    2809 non-null object\n",
      "dtypes: object(4)\n",
      "memory usage: 87.9+ KB\n"
     ]
    },
    {
     "data": {
      "text/plain": [
       "(None, None)"
      ]
     },
     "execution_count": 19,
     "metadata": {},
     "output_type": "execute_result"
    }
   ],
   "source": [
    "df_swing.info(),df_perting.info()"
   ]
  },
  {
   "cell_type": "code",
   "execution_count": 20,
   "metadata": {},
   "outputs": [
    {
     "data": {
      "text/plain": [
       "array([0.        , 0.20689655, 0.4137931 , 0.62068966, 0.82758621,\n",
       "       1.03448276, 1.24137931, 1.44827586, 1.65517241, 1.86206897,\n",
       "       2.06896552, 2.27586207, 2.48275862, 2.68965517, 2.89655172,\n",
       "       3.10344828, 3.31034483, 3.51724138, 3.72413793, 3.93103448,\n",
       "       4.13793103, 4.34482759, 4.55172414, 4.75862069, 4.96551724,\n",
       "       5.17241379, 5.37931034, 5.5862069 , 5.79310345, 6.        ])"
      ]
     },
     "execution_count": 20,
     "metadata": {},
     "output_type": "execute_result"
    }
   ],
   "source": [
    "import numpy as np\n",
    "import matplotlib as plt\n",
    "\n",
    "timestamp = np.linspace(0,6,30)\n",
    "timestamp"
   ]
  },
  {
   "cell_type": "code",
   "execution_count": 22,
   "metadata": {},
   "outputs": [
    {
     "name": "stdout",
     "output_type": "stream",
     "text": [
      "Started:\n",
      "Started:\n",
      "Started:\n",
      "Started:\n",
      "Started:\n",
      "Started:\n",
      "Started:\n",
      "Started:\n",
      "Started:\n",
      "Started:\n",
      "Started:\n",
      "Started:\n",
      "Started:\n",
      "Started:\n",
      "Started:\n",
      "Started:\n",
      "Started:\n",
      "Started:\n",
      "Started:\n",
      "Started:\n",
      "Started:\n",
      "Started:\n",
      "Started:\n",
      "Started:\n",
      "Started:\n",
      "Started:\n",
      "Started:\n",
      "Started:\n",
      "Started:\n",
      "Started:\n"
     ]
    }
   ],
   "source": [
    "for x in df_swing['time']:\n",
    "    if x=='Started:':\n",
    "        print(x)"
   ]
  },
  {
   "cell_type": "code",
   "execution_count": 23,
   "metadata": {},
   "outputs": [],
   "source": [
    "import matplotlib.pyplot as plt\n",
    "%matplotlib inline"
   ]
  },
  {
   "cell_type": "code",
   "execution_count": 24,
   "metadata": {},
   "outputs": [],
   "source": [
    "def resizedataseq(df,):\n",
    "    Qx = list(df.iloc[:,0])\n",
    "    Qy = list(df.iloc[:,1])\n",
    "    Qz = list(df.iloc[:,2])\n",
    "\n",
    "    seqlen = len(df)\n",
    "    \n",
    "    while seqlen != 120:\n",
    "        mx = np.mean(Qx)\n",
    "        my = np.mean(Qy)\n",
    "        mz = np.mean(Qz)\n",
    "\n",
    "        if seqlen <120:\n",
    "            Qx.pop(0)\n",
    "            Qy.pop(0)\n",
    "            Qz.pop(0)\n",
    "            Qx.append(mx)\n",
    "            Qy.append(my)\n",
    "            Qz.append(mz)\n",
    "            #행추가\n",
    "            df.loc[seqlen]=[mx,my,mz]\n",
    "            seqlen = seqlen+1\n",
    "        \n",
    "        \n",
    "        elif seqlen > 120:\n",
    "            #행삭제\n",
    "            df = df.iloc[:121,:]\n",
    "            seqlen = 120\n",
    "            break\n",
    "            \n",
    "        \n",
    "    return df"
   ]
  },
  {
   "cell_type": "code",
   "execution_count": 4,
   "metadata": {},
   "outputs": [
    {
     "ename": "NameError",
     "evalue": "name 'df_golf' is not defined",
     "output_type": "error",
     "traceback": [
      "\u001b[1;31m---------------------------------------------------------------------------\u001b[0m",
      "\u001b[1;31mNameError\u001b[0m                                 Traceback (most recent call last)",
      "\u001b[1;32m<ipython-input-4-473dee6535c9>\u001b[0m in \u001b[0;36m<module>\u001b[1;34m\u001b[0m\n\u001b[0;32m      6\u001b[0m \u001b[1;33m\u001b[0m\u001b[0m\n\u001b[0;32m      7\u001b[0m \u001b[1;33m\u001b[0m\u001b[0m\n\u001b[1;32m----> 8\u001b[1;33m \u001b[1;32mfor\u001b[0m \u001b[0mi\u001b[0m \u001b[1;32min\u001b[0m \u001b[0mrange\u001b[0m\u001b[1;33m(\u001b[0m\u001b[1;36m1\u001b[0m\u001b[1;33m,\u001b[0m\u001b[0mlen\u001b[0m\u001b[1;33m(\u001b[0m\u001b[0mdf_golf\u001b[0m\u001b[1;33m)\u001b[0m\u001b[1;33m)\u001b[0m\u001b[1;33m:\u001b[0m\u001b[1;33m\u001b[0m\u001b[1;33m\u001b[0m\u001b[0m\n\u001b[0m\u001b[0;32m      9\u001b[0m     \u001b[1;32mif\u001b[0m \u001b[0mi\u001b[0m\u001b[1;33m==\u001b[0m\u001b[0mlen\u001b[0m\u001b[1;33m(\u001b[0m\u001b[0mdf_golf\u001b[0m\u001b[1;33m)\u001b[0m\u001b[1;33m-\u001b[0m\u001b[1;36m1\u001b[0m\u001b[1;33m:\u001b[0m\u001b[1;33m\u001b[0m\u001b[1;33m\u001b[0m\u001b[0m\n\u001b[0;32m     10\u001b[0m         \u001b[0mend\u001b[0m \u001b[1;33m=\u001b[0m \u001b[0mi\u001b[0m\u001b[1;33m\u001b[0m\u001b[1;33m\u001b[0m\u001b[0m\n",
      "\u001b[1;31mNameError\u001b[0m: name 'df_golf' is not defined"
     ]
    }
   ],
   "source": [
    "golf_label = \"golf\"\n",
    "\n",
    "golf_dataset = []\n",
    "start = 1\n",
    "end = 0\n",
    "\n",
    "\n",
    "for i in range(1,len(df_golf)):\n",
    "    if i==len(df_golf)-1:\n",
    "        end = i\n",
    "        subset = df_golf[start:end][1:].astype(float)\n",
    "        plt.plot(subset['time'],subset['X_value'],color='r')\n",
    "        plt.plot(subset['time'],subset['Y_value'],color = 'g')\n",
    "        plt.plot(subset['time'],subset['Z_value'],color='b')\n",
    "        print(np.mean(subset))\n",
    "        \n",
    "    \n",
    "    if df_golf['time'][i] == 'Started:':\n",
    "        end = i-1\n",
    "        #print(df_golf[start:end][1:].astype(float))\n",
    "        subset = df_golf[start:end][1:].astype(float)\n",
    "        plt.plot(subset['time'],subset['X_value'],color='r')\n",
    "        plt.plot(subset['time'],subset['Y_value'],color = 'g')\n",
    "        plt.plot(subset['time'],subset['Z_value'],color='b')\n",
    "        print(np.mean(subset))\n",
    "        print(df_bat.iloc[start:end,1:])\n",
    "        #subset= df_bat.iloc[start:end,1:].astype(float)\n",
    "        #subset = resizedataseq(subset)\n",
    "        print(subset)\n",
    "        start = i+1 \n",
    "    \n",
    "        \n",
    "plt.legend(['X','Y','Z'])\n",
    "plt.title(\"golf\")\n",
    "        \n",
    "    \n",
    "        \n",
    "        #df = df.drop(i) #float으로 형변환이 불가능한 "
   ]
  },
  {
   "cell_type": "code",
   "execution_count": 31,
   "metadata": {
    "scrolled": false
   },
   "outputs": [
    {
     "name": "stdout",
     "output_type": "stream",
     "text": [
      "time       2.210205\n",
      "X_value   -0.764080\n",
      "Y_value   -0.411583\n",
      "Z_value    0.218299\n",
      "dtype: float64\n",
      "(132, 3)\n",
      "time       2.762974\n",
      "X_value   -0.049198\n",
      "Y_value   -0.093730\n",
      "Z_value    0.526940\n",
      "dtype: float64\n",
      "(165, 3)\n",
      "time       2.922843\n",
      "X_value   -0.046646\n",
      "Y_value   -0.154181\n",
      "Z_value    0.525673\n",
      "dtype: float64\n",
      "(174, 3)\n",
      "time       2.411181\n",
      "X_value   -0.200817\n",
      "Y_value   -0.220099\n",
      "Z_value    0.563386\n",
      "dtype: float64\n",
      "(144, 3)\n",
      "time       2.635203\n",
      "X_value   -0.037843\n",
      "Y_value   -0.092549\n",
      "Z_value    0.476341\n",
      "dtype: float64\n",
      "(157, 3)\n",
      "time       2.634835\n",
      "X_value   -0.371659\n",
      "Y_value   -0.522610\n",
      "Z_value    0.411314\n",
      "dtype: float64\n",
      "(157, 3)\n",
      "time       2.362876\n",
      "X_value   -0.245888\n",
      "Y_value   -0.334539\n",
      "Z_value    0.583759\n",
      "dtype: float64\n",
      "(141, 3)\n",
      "time       2.175592\n",
      "X_value   -0.503263\n",
      "Y_value   -0.574959\n",
      "Z_value    0.699438\n",
      "dtype: float64\n",
      "(130, 3)\n",
      "time       2.290587\n",
      "X_value   -0.493824\n",
      "Y_value   -0.437224\n",
      "Z_value    0.680996\n",
      "dtype: float64\n",
      "(137, 3)\n",
      "time       2.481727\n",
      "X_value   -0.328251\n",
      "Y_value   -0.543830\n",
      "Z_value    0.498168\n",
      "dtype: float64\n",
      "(148, 3)\n",
      "time       3.177485\n",
      "X_value   -0.436623\n",
      "Y_value   -0.587578\n",
      "Z_value    0.581190\n",
      "dtype: float64\n",
      "(189, 3)\n",
      "time       2.460564\n",
      "X_value   -0.139258\n",
      "Y_value   -0.209680\n",
      "Z_value    0.515067\n",
      "dtype: float64\n",
      "(147, 3)\n",
      "time       2.346225\n",
      "X_value   -0.188542\n",
      "Y_value    0.032803\n",
      "Z_value    0.560922\n",
      "dtype: float64\n",
      "(140, 3)\n",
      "time       2.411783\n",
      "X_value   -0.211464\n",
      "Y_value   -0.562882\n",
      "Z_value    0.566687\n",
      "dtype: float64\n",
      "(144, 3)\n",
      "time       2.327709\n",
      "X_value   -0.661444\n",
      "Y_value   -0.347258\n",
      "Z_value    0.699979\n",
      "dtype: float64\n",
      "(139, 3)\n",
      "time       2.668411\n",
      "X_value   -0.567399\n",
      "Y_value   -0.213168\n",
      "Z_value    0.673225\n",
      "dtype: float64\n",
      "(159, 3)\n",
      "time       2.429947\n",
      "X_value   -0.583875\n",
      "Y_value   -0.330598\n",
      "Z_value    0.597398\n",
      "dtype: float64\n",
      "(145, 3)\n",
      "time       2.543679\n",
      "X_value   -0.631218\n",
      "Y_value   -0.303988\n",
      "Z_value    0.564559\n",
      "dtype: float64\n",
      "(152, 3)\n",
      "time       2.273847\n",
      "X_value   -0.089212\n",
      "Y_value   -0.350829\n",
      "Z_value    0.623710\n",
      "dtype: float64\n",
      "(136, 3)\n",
      "time       3.026416\n",
      "X_value   -0.452557\n",
      "Y_value   -0.544025\n",
      "Z_value    0.452343\n",
      "dtype: float64\n",
      "(180, 3)\n",
      "time       2.410852\n",
      "X_value   -0.403596\n",
      "Y_value   -0.179784\n",
      "Z_value    0.677350\n",
      "dtype: float64\n",
      "(144, 3)\n",
      "time       2.339822\n",
      "X_value   -0.459889\n",
      "Y_value   -0.592097\n",
      "Z_value    0.644246\n",
      "dtype: float64\n",
      "(140, 3)\n",
      "time       2.752140\n",
      "X_value   -0.522570\n",
      "Y_value   -0.189750\n",
      "Z_value    0.551425\n",
      "dtype: float64\n",
      "(164, 3)\n",
      "time       1.852135\n",
      "X_value   -0.409861\n",
      "Y_value   -0.293075\n",
      "Z_value    0.722219\n",
      "dtype: float64\n",
      "(120, 3)\n",
      "time       2.172946\n",
      "X_value   -0.161407\n",
      "Y_value   -0.366717\n",
      "Z_value    0.470385\n",
      "dtype: float64\n",
      "(130, 3)\n",
      "time       2.602428\n",
      "X_value   -0.410040\n",
      "Y_value    0.033959\n",
      "Z_value    0.363323\n",
      "dtype: float64\n",
      "(155, 3)\n",
      "time       2.414222\n",
      "X_value   -0.570814\n",
      "Y_value   -0.287680\n",
      "Z_value    0.368675\n",
      "dtype: float64\n",
      "(144, 3)\n",
      "time       2.312776\n",
      "X_value   -0.509799\n",
      "Y_value   -0.448651\n",
      "Z_value    0.334769\n",
      "dtype: float64\n",
      "(138, 3)\n",
      "time       2.345836\n",
      "X_value   -0.673029\n",
      "Y_value   -0.231283\n",
      "Z_value    0.458524\n",
      "dtype: float64\n",
      "(140, 3)\n",
      "time       2.398049\n",
      "X_value   -0.587692\n",
      "Y_value   -0.294278\n",
      "Z_value    0.096367\n",
      "dtype: float64\n"
     ]
    },
    {
     "data": {
      "text/plain": [
       "Text(0.5, 1, 'bat')"
      ]
     },
     "execution_count": 31,
     "metadata": {},
     "output_type": "execute_result"
    },
    {
     "data": {
      "image/png": "[encoded data removed]",
      "text/plain": [
       "<Figure size 432x288 with 1 Axes>"
      ]
     },
     "metadata": {
      "needs_background": "light"
     },
     "output_type": "display_data"
    }
   ],
   "source": [
    "\n",
    "bat_dataset = []\n",
    "start = 1\n",
    "end = 0\n",
    "imname = \"tempgr\"\n",
    "fig = plt.figure()\n",
    "\n",
    "for i in range(1,len(df_swing)):\n",
    "    if i==len(df_swing)-1:\n",
    "        end = i\n",
    "        subset = df_swing[start:end][1:].astype(float)\n",
    "        plt.plot(subset['time'],subset['X_value'],color='r')\n",
    "        plt.plot(subset['time'],subset['Y_value'],color = 'g')\n",
    "        plt.plot(subset['time'],subset['Z_value'],color='b')\n",
    "        print(np.mean(subset))\n",
    "            \n",
    "    \n",
    "    if df_swing['time'][i] == 'Started:':\n",
    "        end = i-1\n",
    "        #print(df_golf[start:end][1:].astype(float))\n",
    "        subset = df_swing[start:end][1:].astype(float)\n",
    "        plt.plot(subset['time'],subset['X_value'],color='r')\n",
    "        plt.plot(subset['time'],subset['Y_value'],color = 'g')\n",
    "        plt.plot(subset['time'],subset['Z_value'],color='b')\n",
    "        print(np.mean(subset))\n",
    "        subset= df_swing.iloc[start:end,1:].astype(float)\n",
    "        resizedataseq(subset)\n",
    "        subset = subset.values\n",
    "        print(subset.shape)\n",
    "        start = i+1 \n",
    "        \n",
    "        fig.savefig(imname+str(i)+\".png\")\n",
    "        \n",
    "plt.legend(['X','Y','Z'])\n",
    "plt.title(\"bat\")\n",
    "\n",
    "\n",
    "\n",
    "        "
   ]
  },
  {
   "cell_type": "markdown",
   "metadata": {},
   "source": [
    "##  주어진 데이터로는 두 스윙간의 차이를 구분하기 어려움."
   ]
  },
  {
   "cell_type": "code",
   "execution_count": null,
   "metadata": {},
   "outputs": [],
   "source": [
    "\n",
    "    "
   ]
  },
  {
   "cell_type": "code",
   "execution_count": null,
   "metadata": {},
   "outputs": [],
   "source": []
  }
 ],
 "metadata": {
  "kernelspec": {
   "display_name": "Python 3",
   "language": "python",
   "name": "python3"
  },
  "language_info": {
   "codemirror_mode": {
    "name": "ipython",
    "version": 3
   },
   "file_extension": ".py",
   "mimetype": "text/x-python",
   "name": "python",
   "nbconvert_exporter": "python",
   "pygments_lexer": "ipython3",
   "version": "3.7.4"
  }
 },
 "nbformat": 4,
 "nbformat_minor": 2
}
