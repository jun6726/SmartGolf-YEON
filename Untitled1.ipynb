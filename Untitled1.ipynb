{
 "cells": [
  {
   "cell_type": "code",
   "execution_count": 1,
   "metadata": {},
   "outputs": [
    {
     "name": "stderr",
     "output_type": "stream",
     "text": [
      "WARNING: Logging before flag parsing goes to stderr.\n",
      "W0827 16:16:21.701257 29600 __init__.py:690] \n",
      "\n",
      "  TensorFlow's `tf-nightly` package will soon be updated to TensorFlow 2.0.\n",
      "\n",
      "  Please upgrade your code to TensorFlow 2.0:\n",
      "    * https://www.tensorflow.org/beta/guide/migration_guide\n",
      "\n",
      "  Or install the latest stable TensorFlow 1.X release:\n",
      "    * `pip install -U \"tensorflow==1.*\"`\n",
      "\n",
      "  Otherwise your code may be broken by the change.\n",
      "\n",
      "  \n"
     ]
    }
   ],
   "source": [
    "import numpy as np\n",
    "import tensorflow as tf\n",
    "import basicfunc"
   ]
  },
  {
   "cell_type": "code",
   "execution_count": 2,
   "metadata": {},
   "outputs": [
    {
     "name": "stderr",
     "output_type": "stream",
     "text": [
      "Using TensorFlow backend.\n"
     ]
    }
   ],
   "source": [
    "from glob import glob\n",
    "from os import path\n",
    "from pandas import read_csv, concat\n",
    "from csv import writer\n",
    "import matplotlib.pyplot as plt\n",
    "import numpy as np\n",
    "%matplotlib inline\n",
    "\n",
    "import tensorflow as tf\n",
    "\n",
    "from tensorflow.python.lib.io import file_io\n",
    "import argparse\n",
    "from sklearn.preprocessing import LabelEncoder, MinMaxScaler\n",
    "\n",
    "from keras.utils import np_utils\n",
    "from keras.models import Sequential\n",
    "from numpy import array, split\n",
    "\n",
    "\n",
    "from sklearn.model_selection import train_test_split\n",
    "import keras.utils as utils"
   ]
  },
  {
   "cell_type": "code",
   "execution_count": 3,
   "metadata": {},
   "outputs": [],
   "source": [
    "#load data\n",
    "folder_path = './csv/Angular_swing30/'\n",
    "\n",
    "#파일 형식: s1_gyr.csv\n",
    "swing_files = glob(path.join(folder_path, 's*_gyr.csv'))\n",
    "\n",
    "df_swing = concat((read_csv(f,header=0) for f in swing_files),ignore_index=True)\n",
    "df_swing.fillna(0, inplace=True)\n",
    "\n",
    "#load data\n",
    "folder_path = './csv/Angular_perting30/'\n",
    "\n",
    "#파일 형식: s1_gyr.csv\n",
    "perting_files2 = glob(path.join(folder_path, 'p*_gyr.csv'))\n",
    "\n",
    "df_perting = concat((read_csv(f,header=0) for f in perting_files2),ignore_index=True)\n",
    "df_perting.fillna(0, inplace=True)\n",
    "\n",
    "df_swing.fillna(0, inplace=True)\n",
    "df_perting.fillna(0, inplace=True)"
   ]
  },
  {
   "cell_type": "code",
   "execution_count": 4,
   "metadata": {},
   "outputs": [
    {
     "name": "stdout",
     "output_type": "stream",
     "text": [
      "(30, 140, 3)\n"
     ]
    }
   ],
   "source": [
    "X = np.empty(shape=(1,140,3))\n",
    "y = []\n",
    "#swing은 1 perting은 0\n",
    "start = 1\n",
    "end = 0\n",
    "\n",
    "for i in range(1,len(df_swing)):\n",
    "    if i==len(df_swing)-1:\n",
    "        end = i-1\n",
    "\n",
    "        subset= df_swing.iloc[start:end,1:].astype(float)\n",
    "        subset= basicfunc.resizedataseq(subset,140)\n",
    "        start = i+1\n",
    "        if len(subset) == 140:\n",
    "            subset = subset.values\n",
    "            subset=subset[np.newaxis]\n",
    "            X =np.concatenate((X,subset))\n",
    "            y.append(1)\n",
    "\n",
    "            \n",
    "    if df_swing['time'][i] == 'Started:':\n",
    "        end = i-1\n",
    "        subset= df_swing.iloc[start:end,1:].astype(float)\n",
    "        subset= basicfunc.resizedataseq(subset,140)\n",
    "        start = i+1\n",
    "        if len(subset) == 140:\n",
    "            subset = subset.values\n",
    "            subset=subset[np.newaxis]\n",
    "            X =np.concatenate((X,subset))\n",
    "            y.append(1)\n",
    "        \n",
    "        \n",
    "print(X.shape)"
   ]
  },
  {
   "cell_type": "code",
   "execution_count": 5,
   "metadata": {},
   "outputs": [],
   "source": [
    "X=np.delete(X,0,axis=0)"
   ]
  },
  {
   "cell_type": "code",
   "execution_count": 6,
   "metadata": {},
   "outputs": [
    {
     "name": "stdout",
     "output_type": "stream",
     "text": [
      "(57, 140, 3)\n"
     ]
    }
   ],
   "source": [
    "#swing은 1 perting은 0\n",
    "start = 1\n",
    "end = 0\n",
    "\n",
    "for i in range(1,len(df_perting)):\n",
    "    if i==len(df_perting)-1:\n",
    "        end = i-1\n",
    "        subset= df_perting.iloc[start:end,1:].astype(float)\n",
    "        subset= basicfunc.resizedataseq(subset,140)\n",
    "        start = i+1\n",
    "        if len(subset) == 140:\n",
    "            subset = subset.values\n",
    "            subset=subset[np.newaxis]\n",
    "            X =np.concatenate((X,subset))\n",
    "            y.append(0)\n",
    "\n",
    "            \n",
    "    if df_perting['time'][i] == 'Started:':\n",
    "        end = i-1\n",
    "        subset= df_perting.iloc[start:end,1:].astype(float)\n",
    "        subset= basicfunc.resizedataseq(subset,140)\n",
    "        start = i+1\n",
    "        if len(subset) == 140:\n",
    "            subset = subset.values\n",
    "            subset=subset[np.newaxis]\n",
    "            X =np.concatenate((X,subset))\n",
    "            y.append(0)\n",
    "        \n",
    "        \n",
    "print(X.shape)"
   ]
  },
  {
   "cell_type": "code",
   "execution_count": 7,
   "metadata": {},
   "outputs": [],
   "source": [
    "X_train, X_test, y_train, y_test = train_test_split(X,y,test_size=0.2,random_state=1)"
   ]
  },
  {
   "cell_type": "code",
   "execution_count": 8,
   "metadata": {},
   "outputs": [],
   "source": [
    "y_train  = utils.to_categorical(y_train)\n",
    "y_test = utils.to_categorical(y_test)"
   ]
  },
  {
   "cell_type": "code",
   "execution_count": 14,
   "metadata": {},
   "outputs": [
    {
     "name": "stderr",
     "output_type": "stream",
     "text": [
      "W0827 16:23:06.893515 29600 deprecation.py:506] From C:\\Users\\Bin\\Anaconda3\\envs\\venv_ml\\lib\\site-packages\\tensorflow_core\\python\\ops\\init_ops.py:97: calling GlorotUniform.__init__ (from tensorflow.python.ops.init_ops) with dtype is deprecated and will be removed in a future version.\n",
      "Instructions for updating:\n",
      "Call initializer instance with the dtype argument instead of passing it to the constructor\n",
      "W0827 16:23:06.894511 29600 deprecation.py:506] From C:\\Users\\Bin\\Anaconda3\\envs\\venv_ml\\lib\\site-packages\\tensorflow_core\\python\\ops\\init_ops.py:97: calling Orthogonal.__init__ (from tensorflow.python.ops.init_ops) with dtype is deprecated and will be removed in a future version.\n",
      "Instructions for updating:\n",
      "Call initializer instance with the dtype argument instead of passing it to the constructor\n",
      "W0827 16:23:06.896506 29600 deprecation.py:506] From C:\\Users\\Bin\\Anaconda3\\envs\\venv_ml\\lib\\site-packages\\tensorflow_core\\python\\ops\\init_ops.py:97: calling Zeros.__init__ (from tensorflow.python.ops.init_ops) with dtype is deprecated and will be removed in a future version.\n",
      "Instructions for updating:\n",
      "Call initializer instance with the dtype argument instead of passing it to the constructor\n",
      "W0827 16:23:07.837989 29600 deprecation.py:323] From C:\\Users\\Bin\\Anaconda3\\envs\\venv_ml\\lib\\site-packages\\tensorflow_core\\lite\\python\\util.py:249: convert_variables_to_constants (from tensorflow.python.framework.graph_util_impl) is deprecated and will be removed in a future version.\n",
      "Instructions for updating:\n",
      "Use `tf.compat.v1.graph_util.convert_variables_to_constants`\n",
      "W0827 16:23:07.839019 29600 deprecation.py:323] From C:\\Users\\Bin\\Anaconda3\\envs\\venv_ml\\lib\\site-packages\\tensorflow_core\\python\\framework\\graph_util_impl.py:277: extract_sub_graph (from tensorflow.python.framework.graph_util_impl) is deprecated and will be removed in a future version.\n",
      "Instructions for updating:\n",
      "Use `tf.compat.v1.graph_util.extract_sub_graph`\n"
     ]
    },
    {
     "ename": "ConverterError",
     "evalue": "See console for info.\nWARNING: Logging before flag parsing goes to stderr.\r\nW0827 16:23:15.771768 26176 __init__.py:690] \r\n\r\n  TensorFlow's `tf-nightly` package will soon be updated to TensorFlow 2.0.\r\n\r\n  Please upgrade your code to TensorFlow 2.0:\r\n    * https://www.tensorflow.org/beta/guide/migration_guide\r\n\r\n  Or install the latest stable TensorFlow 1.X release:\r\n    * `pip install -U \"tensorflow==1.*\"`\r\n\r\n  Otherwise your code may be broken by the change.\r\n\r\n  \r\n2019-08-27 16:23:15.852028: I tensorflow/lite/toco/import_tensorflow.cc:659] Converting unsupported operation: Enter\n2019-08-27 16:23:15.852274: I tensorflow/lite/toco/import_tensorflow.cc:659] Converting unsupported operation: Enter\n2019-08-27 16:23:15.852495: I tensorflow/lite/toco/import_tensorflow.cc:659] Converting unsupported operation: Enter\n2019-08-27 16:23:15.853056: I tensorflow/lite/toco/import_tensorflow.cc:659] Converting unsupported operation: Enter\n2019-08-27 16:23:15.853361: I tensorflow/lite/toco/import_tensorflow.cc:659] Converting unsupported operation: Enter\n2019-08-27 16:23:15.853593: I tensorflow/lite/toco/import_tensorflow.cc:659] Converting unsupported operation: Enter\n2019-08-27 16:23:15.853812: I tensorflow/lite/toco/import_tensorflow.cc:659] Converting unsupported operation: TensorArrayV3\n2019-08-27 16:23:15.854047: I tensorflow/lite/toco/import_tensorflow.cc:193] Unsupported data type in placeholder op: 20\n2019-08-27 16:23:15.854263: I tensorflow/lite/toco/import_tensorflow.cc:659] Converting unsupported operation: TensorArrayV3\n2019-08-27 16:23:15.854493: I tensorflow/lite/toco/import_tensorflow.cc:193] Unsupported data type in placeholder op: 20\n2019-08-27 16:23:15.854710: I tensorflow/lite/toco/import_tensorflow.cc:659] Converting unsupported operation: Enter\n2019-08-27 16:23:15.854939: I tensorflow/lite/toco/import_tensorflow.cc:659] Converting unsupported operation: Enter\n2019-08-27 16:23:15.855154: I tensorflow/lite/toco/import_tensorflow.cc:193] Unsupported data type in placeholder op: 20\n2019-08-27 16:23:15.855373: I tensorflow/lite/toco/import_tensorflow.cc:659] Converting unsupported operation: Enter\n2019-08-27 16:23:15.855620: I tensorflow/lite/toco/import_tensorflow.cc:659] Converting unsupported operation: Enter\n2019-08-27 16:23:15.855871: I tensorflow/lite/toco/import_tensorflow.cc:193] Unsupported data type in placeholder op: 20\n2019-08-27 16:23:15.856110: I tensorflow/lite/toco/import_tensorflow.cc:659] Converting unsupported operation: TensorArrayScatterV3\n2019-08-27 16:23:15.856356: I tensorflow/lite/toco/import_tensorflow.cc:659] Converting unsupported operation: Enter\n2019-08-27 16:23:15.856571: I tensorflow/lite/toco/import_tensorflow.cc:659] Converting unsupported operation: LoopCond\n2019-08-27 16:23:15.856800: I tensorflow/lite/toco/import_tensorflow.cc:659] Converting unsupported operation: Exit\n2019-08-27 16:23:15.857020: I tensorflow/lite/toco/import_tensorflow.cc:659] Converting unsupported operation: TensorArrayReadV3\n2019-08-27 16:23:15.857348: I tensorflow/lite/toco/import_tensorflow.cc:659] Converting unsupported operation: TensorArraySizeV3\n2019-08-27 16:23:15.857655: I tensorflow/lite/toco/import_tensorflow.cc:659] Converting unsupported operation: TensorArrayGatherV3\n2019-08-27 16:23:15.857959: I tensorflow/lite/toco/import_tensorflow.cc:659] Converting unsupported operation: TensorArrayWriteV3\n2019-08-27 16:23:15.859131: I tensorflow/lite/toco/graph_transformations/graph_transformations.cc:39] Before Removing unused ops: 93 operators, 161 arrays (0 quantized)\n2019-08-27 16:23:15.860035: I tensorflow/lite/toco/graph_transformations/graph_transformations.cc:39] Before general graph transformations: 93 operators, 161 arrays (0 quantized)\n2019-08-27 16:23:15.861945: I tensorflow/lite/toco/graph_transformations/graph_transformations.cc:39] After general graph transformations pass 1: 81 operators, 149 arrays (0 quantized)\n2019-08-27 16:23:15.863441: I tensorflow/lite/toco/graph_transformations/graph_transformations.cc:39] Before Group bidirectional sequence lstm/rnn: 81 operators, 149 arrays (0 quantized)\n2019-08-27 16:23:15.864392: I tensorflow/lite/toco/graph_transformations/graph_transformations.cc:39] Before dequantization graph transformations: 81 operators, 149 arrays (0 quantized)\n2019-08-27 16:23:15.865654: I tensorflow/lite/toco/allocate_transient_arrays.cc:345] Total transient array allocated size: 1984 bytes, theoretical optimal value: 1920 bytes.\n2019-08-27 16:23:15.866198: I tensorflow/lite/toco/toco_tooling.cc:454] Number of parameters: 68175\n2019-08-27 16:23:15.866981: E tensorflow/lite/toco/toco_tooling.cc:481] We are continually in the process of adding support to TensorFlow Lite for more ops. It would be helpful if you could inform us of how this conversion went by opening a github issue at https://github.com/tensorflow/tensorflow/issues/new?template=40-tflite-op-request.md\n and pasting the following:\n\nTensorFlow Lite currently doesn't support control flow ops: Enter, Exit, Merge, Switch. We are working on supporting control flow ops, please see github issue at https://github.com/tensorflow/tensorflow/issues/28485. Some of the operators in the model are not supported by the standard TensorFlow Lite runtime. If those are native TensorFlow operators, you might be able to use the extended runtime by passing --enable_select_tf_ops, or by setting target_ops=TFLITE_BUILTINS,SELECT_TF_OPS when calling tf.lite.TFLiteConverter(). Otherwise, if you have a custom implementation for them you can disable this error with --allow_custom_ops, or by setting allow_custom_ops=True when calling tf.lite.TFLiteConverter(). Here is a list of builtin operators you are using: ADD, FULLY_CONNECTED, LESS, LOGISTIC, MAXIMUM, MINIMUM, MUL, RANGE, RESHAPE, SPLIT, STRIDED_SLICE, TRANSPOSE. Here is a list of operators for which you will need custom implementations: LoopCond, TensorArrayGatherV3, TensorArrayReadV3, TensorArrayScatterV3, TensorArraySizeV3, TensorArrayV3, TensorArrayWriteV3.\nTraceback (most recent call last):\r\n  File \"c:\\users\\bin\\anaconda3\\envs\\venv_ml\\lib\\runpy.py\", line 193, in _run_module_as_main\r\n    \"__main__\", mod_spec)\r\n  File \"c:\\users\\bin\\anaconda3\\envs\\venv_ml\\lib\\runpy.py\", line 85, in _run_code\r\n    exec(code, run_globals)\r\n  File \"C:\\Users\\Bin\\Anaconda3\\envs\\venv_ml\\Scripts\\toco_from_protos.exe\\__main__.py\", line 9, in <module>\r\n  File \"c:\\users\\bin\\anaconda3\\envs\\venv_ml\\lib\\site-packages\\tensorflow_core\\lite\\toco\\python\\toco_from_protos.py\", line 89, in main\r\n    app.run(main=execute, argv=[sys.argv[0]] + unparsed)\r\n  File \"c:\\users\\bin\\anaconda3\\envs\\venv_ml\\lib\\site-packages\\tensorflow_core\\python\\platform\\app.py\", line 40, in run\r\n    _run(main=main, argv=argv, flags_parser=_parse_flags_tolerate_undef)\r\n  File \"c:\\users\\bin\\anaconda3\\envs\\venv_ml\\lib\\site-packages\\absl\\app.py\", line 300, in run\r\n    _run_main(main, args)\r\n  File \"c:\\users\\bin\\anaconda3\\envs\\venv_ml\\lib\\site-packages\\absl\\app.py\", line 251, in _run_main\r\n    sys.exit(main(argv))\r\n  File \"c:\\users\\bin\\anaconda3\\envs\\venv_ml\\lib\\site-packages\\tensorflow_core\\lite\\toco\\python\\toco_from_protos.py\", line 52, in execute\r\n    enable_mlir_converter)\r\nException: We are continually in the process of adding support to TensorFlow Lite for more ops. It would be helpful if you could inform us of how this conversion went by opening a github issue at https://github.com/tensorflow/tensorflow/issues/new?template=40-tflite-op-request.md\r\n and pasting the following:\r\n\r\nTensorFlow Lite currently doesn't support control flow ops: Enter, Exit, Merge, Switch. We are working on supporting control flow ops, please see github issue at https://github.com/tensorflow/tensorflow/issues/28485. Some of the operators in the model are not supported by the standard TensorFlow Lite runtime. If those are native TensorFlow operators, you might be able to use the extended runtime by passing --enable_select_tf_ops, or by setting target_ops=TFLITE_BUILTINS,SELECT_TF_OPS when calling tf.lite.TFLiteConverter(). Otherwise, if you have a custom implementation for them you can disable this error with --allow_custom_ops, or by setting allow_custom_ops=True when calling tf.lite.TFLiteConverter(). Here is a list of builtin operators you are using: ADD, FULLY_CONNECTED, LESS, LOGISTIC, MAXIMUM, MINIMUM, MUL, RANGE, RESHAPE, SPLIT, STRIDED_SLICE, TRANSPOSE. Here is a list of operators for which you will need custom implementations: LoopCond, TensorArrayGatherV3, TensorArrayReadV3, TensorArrayScatterV3, TensorArraySizeV3, TensorArrayV3, TensorArrayWriteV3.\r\n\n\n",
     "output_type": "error",
     "traceback": [
      "\u001b[1;31m---------------------------------------------------------------------------\u001b[0m",
      "\u001b[1;31mConverterError\u001b[0m                            Traceback (most recent call last)",
      "\u001b[1;32m<ipython-input-14-f0aa7c18a39f>\u001b[0m in \u001b[0;36m<module>\u001b[1;34m\u001b[0m\n\u001b[0;32m     24\u001b[0m \u001b[1;31m# Convert to TensorFlow Lite model.\u001b[0m\u001b[1;33m\u001b[0m\u001b[1;33m\u001b[0m\u001b[1;33m\u001b[0m\u001b[0m\n\u001b[0;32m     25\u001b[0m \u001b[0mconverter\u001b[0m \u001b[1;33m=\u001b[0m \u001b[0mtf\u001b[0m\u001b[1;33m.\u001b[0m\u001b[0mlite\u001b[0m\u001b[1;33m.\u001b[0m\u001b[0mTFLiteConverter\u001b[0m\u001b[1;33m.\u001b[0m\u001b[0mfrom_keras_model_file\u001b[0m\u001b[1;33m(\u001b[0m\u001b[0mkeras_file\u001b[0m\u001b[1;33m)\u001b[0m\u001b[1;33m\u001b[0m\u001b[1;33m\u001b[0m\u001b[0m\n\u001b[1;32m---> 26\u001b[1;33m \u001b[0mtflite_model\u001b[0m \u001b[1;33m=\u001b[0m \u001b[0mconverter\u001b[0m\u001b[1;33m.\u001b[0m\u001b[0mconvert\u001b[0m\u001b[1;33m(\u001b[0m\u001b[1;33m)\u001b[0m\u001b[1;33m\u001b[0m\u001b[1;33m\u001b[0m\u001b[0m\n\u001b[0m\u001b[0;32m     27\u001b[0m \u001b[0mopen\u001b[0m\u001b[1;33m(\u001b[0m\u001b[1;34m\"converted_model.tflite\"\u001b[0m\u001b[1;33m,\u001b[0m \u001b[1;34m\"wb\"\u001b[0m\u001b[1;33m)\u001b[0m\u001b[1;33m.\u001b[0m\u001b[0mwrite\u001b[0m\u001b[1;33m(\u001b[0m\u001b[0mtflite_model\u001b[0m\u001b[1;33m)\u001b[0m\u001b[1;33m\u001b[0m\u001b[1;33m\u001b[0m\u001b[0m\n",
      "\u001b[1;32m~\\Anaconda3\\envs\\venv_ml\\lib\\site-packages\\tensorflow_core\\lite\\python\\lite.py\u001b[0m in \u001b[0;36mconvert\u001b[1;34m(self)\u001b[0m\n\u001b[0;32m    981\u001b[0m           \u001b[0minput_tensors\u001b[0m\u001b[1;33m=\u001b[0m\u001b[0mself\u001b[0m\u001b[1;33m.\u001b[0m\u001b[0m_input_tensors\u001b[0m\u001b[1;33m,\u001b[0m\u001b[1;33m\u001b[0m\u001b[1;33m\u001b[0m\u001b[0m\n\u001b[0;32m    982\u001b[0m           \u001b[0moutput_tensors\u001b[0m\u001b[1;33m=\u001b[0m\u001b[0mself\u001b[0m\u001b[1;33m.\u001b[0m\u001b[0m_output_tensors\u001b[0m\u001b[1;33m,\u001b[0m\u001b[1;33m\u001b[0m\u001b[1;33m\u001b[0m\u001b[0m\n\u001b[1;32m--> 983\u001b[1;33m           **converter_kwargs)\n\u001b[0m\u001b[0;32m    984\u001b[0m     \u001b[1;32melse\u001b[0m\u001b[1;33m:\u001b[0m\u001b[1;33m\u001b[0m\u001b[1;33m\u001b[0m\u001b[0m\n\u001b[0;32m    985\u001b[0m       result = _toco_convert_graph_def(\n",
      "\u001b[1;32m~\\Anaconda3\\envs\\venv_ml\\lib\\site-packages\\tensorflow_core\\lite\\python\\convert.py\u001b[0m in \u001b[0;36mtoco_convert_impl\u001b[1;34m(input_data, input_tensors, output_tensors, enable_mlir_converter, *args, **kwargs)\u001b[0m\n\u001b[0;32m    447\u001b[0m       \u001b[0minput_data\u001b[0m\u001b[1;33m.\u001b[0m\u001b[0mSerializeToString\u001b[0m\u001b[1;33m(\u001b[0m\u001b[1;33m)\u001b[0m\u001b[1;33m,\u001b[0m\u001b[1;33m\u001b[0m\u001b[1;33m\u001b[0m\u001b[0m\n\u001b[0;32m    448\u001b[0m       \u001b[0mdebug_info_str\u001b[0m\u001b[1;33m=\u001b[0m\u001b[0mdebug_info_str\u001b[0m\u001b[1;33m,\u001b[0m\u001b[1;33m\u001b[0m\u001b[1;33m\u001b[0m\u001b[0m\n\u001b[1;32m--> 449\u001b[1;33m       enable_mlir_converter=enable_mlir_converter)\n\u001b[0m\u001b[0;32m    450\u001b[0m   \u001b[1;32mreturn\u001b[0m \u001b[0mdata\u001b[0m\u001b[1;33m\u001b[0m\u001b[1;33m\u001b[0m\u001b[0m\n\u001b[0;32m    451\u001b[0m \u001b[1;33m\u001b[0m\u001b[0m\n",
      "\u001b[1;32m~\\Anaconda3\\envs\\venv_ml\\lib\\site-packages\\tensorflow_core\\lite\\python\\convert.py\u001b[0m in \u001b[0;36mtoco_convert_protos\u001b[1;34m(model_flags_str, toco_flags_str, input_data_str, debug_info_str, enable_mlir_converter)\u001b[0m\n\u001b[0;32m    198\u001b[0m       \u001b[0mstdout\u001b[0m \u001b[1;33m=\u001b[0m \u001b[0m_try_convert_to_unicode\u001b[0m\u001b[1;33m(\u001b[0m\u001b[0mstdout\u001b[0m\u001b[1;33m)\u001b[0m\u001b[1;33m\u001b[0m\u001b[1;33m\u001b[0m\u001b[0m\n\u001b[0;32m    199\u001b[0m       \u001b[0mstderr\u001b[0m \u001b[1;33m=\u001b[0m \u001b[0m_try_convert_to_unicode\u001b[0m\u001b[1;33m(\u001b[0m\u001b[0mstderr\u001b[0m\u001b[1;33m)\u001b[0m\u001b[1;33m\u001b[0m\u001b[1;33m\u001b[0m\u001b[0m\n\u001b[1;32m--> 200\u001b[1;33m       \u001b[1;32mraise\u001b[0m \u001b[0mConverterError\u001b[0m\u001b[1;33m(\u001b[0m\u001b[1;34m\"See console for info.\\n%s\\n%s\\n\"\u001b[0m \u001b[1;33m%\u001b[0m \u001b[1;33m(\u001b[0m\u001b[0mstdout\u001b[0m\u001b[1;33m,\u001b[0m \u001b[0mstderr\u001b[0m\u001b[1;33m)\u001b[0m\u001b[1;33m)\u001b[0m\u001b[1;33m\u001b[0m\u001b[1;33m\u001b[0m\u001b[0m\n\u001b[0m\u001b[0;32m    201\u001b[0m   \u001b[1;32mfinally\u001b[0m\u001b[1;33m:\u001b[0m\u001b[1;33m\u001b[0m\u001b[1;33m\u001b[0m\u001b[0m\n\u001b[0;32m    202\u001b[0m     \u001b[1;31m# Must manually cleanup files.\u001b[0m\u001b[1;33m\u001b[0m\u001b[1;33m\u001b[0m\u001b[1;33m\u001b[0m\u001b[0m\n",
      "\u001b[1;31mConverterError\u001b[0m: See console for info.\nWARNING: Logging before flag parsing goes to stderr.\r\nW0827 16:23:15.771768 26176 __init__.py:690] \r\n\r\n  TensorFlow's `tf-nightly` package will soon be updated to TensorFlow 2.0.\r\n\r\n  Please upgrade your code to TensorFlow 2.0:\r\n    * https://www.tensorflow.org/beta/guide/migration_guide\r\n\r\n  Or install the latest stable TensorFlow 1.X release:\r\n    * `pip install -U \"tensorflow==1.*\"`\r\n\r\n  Otherwise your code may be broken by the change.\r\n\r\n  \r\n2019-08-27 16:23:15.852028: I tensorflow/lite/toco/import_tensorflow.cc:659] Converting unsupported operation: Enter\n2019-08-27 16:23:15.852274: I tensorflow/lite/toco/import_tensorflow.cc:659] Converting unsupported operation: Enter\n2019-08-27 16:23:15.852495: I tensorflow/lite/toco/import_tensorflow.cc:659] Converting unsupported operation: Enter\n2019-08-27 16:23:15.853056: I tensorflow/lite/toco/import_tensorflow.cc:659] Converting unsupported operation: Enter\n2019-08-27 16:23:15.853361: I tensorflow/lite/toco/import_tensorflow.cc:659] Converting unsupported operation: Enter\n2019-08-27 16:23:15.853593: I tensorflow/lite/toco/import_tensorflow.cc:659] Converting unsupported operation: Enter\n2019-08-27 16:23:15.853812: I tensorflow/lite/toco/import_tensorflow.cc:659] Converting unsupported operation: TensorArrayV3\n2019-08-27 16:23:15.854047: I tensorflow/lite/toco/import_tensorflow.cc:193] Unsupported data type in placeholder op: 20\n2019-08-27 16:23:15.854263: I tensorflow/lite/toco/import_tensorflow.cc:659] Converting unsupported operation: TensorArrayV3\n2019-08-27 16:23:15.854493: I tensorflow/lite/toco/import_tensorflow.cc:193] Unsupported data type in placeholder op: 20\n2019-08-27 16:23:15.854710: I tensorflow/lite/toco/import_tensorflow.cc:659] Converting unsupported operation: Enter\n2019-08-27 16:23:15.854939: I tensorflow/lite/toco/import_tensorflow.cc:659] Converting unsupported operation: Enter\n2019-08-27 16:23:15.855154: I tensorflow/lite/toco/import_tensorflow.cc:193] Unsupported data type in placeholder op: 20\n2019-08-27 16:23:15.855373: I tensorflow/lite/toco/import_tensorflow.cc:659] Converting unsupported operation: Enter\n2019-08-27 16:23:15.855620: I tensorflow/lite/toco/import_tensorflow.cc:659] Converting unsupported operation: Enter\n2019-08-27 16:23:15.855871: I tensorflow/lite/toco/import_tensorflow.cc:193] Unsupported data type in placeholder op: 20\n2019-08-27 16:23:15.856110: I tensorflow/lite/toco/import_tensorflow.cc:659] Converting unsupported operation: TensorArrayScatterV3\n2019-08-27 16:23:15.856356: I tensorflow/lite/toco/import_tensorflow.cc:659] Converting unsupported operation: Enter\n2019-08-27 16:23:15.856571: I tensorflow/lite/toco/import_tensorflow.cc:659] Converting unsupported operation: LoopCond\n2019-08-27 16:23:15.856800: I tensorflow/lite/toco/import_tensorflow.cc:659] Converting unsupported operation: Exit\n2019-08-27 16:23:15.857020: I tensorflow/lite/toco/import_tensorflow.cc:659] Converting unsupported operation: TensorArrayReadV3\n2019-08-27 16:23:15.857348: I tensorflow/lite/toco/import_tensorflow.cc:659] Converting unsupported operation: TensorArraySizeV3\n2019-08-27 16:23:15.857655: I tensorflow/lite/toco/import_tensorflow.cc:659] Converting unsupported operation: TensorArrayGatherV3\n2019-08-27 16:23:15.857959: I tensorflow/lite/toco/import_tensorflow.cc:659] Converting unsupported operation: TensorArrayWriteV3\n2019-08-27 16:23:15.859131: I tensorflow/lite/toco/graph_transformations/graph_transformations.cc:39] Before Removing unused ops: 93 operators, 161 arrays (0 quantized)\n2019-08-27 16:23:15.860035: I tensorflow/lite/toco/graph_transformations/graph_transformations.cc:39] Before general graph transformations: 93 operators, 161 arrays (0 quantized)\n2019-08-27 16:23:15.861945: I tensorflow/lite/toco/graph_transformations/graph_transformations.cc:39] After general graph transformations pass 1: 81 operators, 149 arrays (0 quantized)\n2019-08-27 16:23:15.863441: I tensorflow/lite/toco/graph_transformations/graph_transformations.cc:39] Before Group bidirectional sequence lstm/rnn: 81 operators, 149 arrays (0 quantized)\n2019-08-27 16:23:15.864392: I tensorflow/lite/toco/graph_transformations/graph_transformations.cc:39] Before dequantization graph transformations: 81 operators, 149 arrays (0 quantized)\n2019-08-27 16:23:15.865654: I tensorflow/lite/toco/allocate_transient_arrays.cc:345] Total transient array allocated size: 1984 bytes, theoretical optimal value: 1920 bytes.\n2019-08-27 16:23:15.866198: I tensorflow/lite/toco/toco_tooling.cc:454] Number of parameters: 68175\n2019-08-27 16:23:15.866981: E tensorflow/lite/toco/toco_tooling.cc:481] We are continually in the process of adding support to TensorFlow Lite for more ops. It would be helpful if you could inform us of how this conversion went by opening a github issue at https://github.com/tensorflow/tensorflow/issues/new?template=40-tflite-op-request.md\n and pasting the following:\n\nTensorFlow Lite currently doesn't support control flow ops: Enter, Exit, Merge, Switch. We are working on supporting control flow ops, please see github issue at https://github.com/tensorflow/tensorflow/issues/28485. Some of the operators in the model are not supported by the standard TensorFlow Lite runtime. If those are native TensorFlow operators, you might be able to use the extended runtime by passing --enable_select_tf_ops, or by setting target_ops=TFLITE_BUILTINS,SELECT_TF_OPS when calling tf.lite.TFLiteConverter(). Otherwise, if you have a custom implementation for them you can disable this error with --allow_custom_ops, or by setting allow_custom_ops=True when calling tf.lite.TFLiteConverter(). Here is a list of builtin operators you are using: ADD, FULLY_CONNECTED, LESS, LOGISTIC, MAXIMUM, MINIMUM, MUL, RANGE, RESHAPE, SPLIT, STRIDED_SLICE, TRANSPOSE. Here is a list of operators for which you will need custom implementations: LoopCond, TensorArrayGatherV3, TensorArrayReadV3, TensorArrayScatterV3, TensorArraySizeV3, TensorArrayV3, TensorArrayWriteV3.\nTraceback (most recent call last):\r\n  File \"c:\\users\\bin\\anaconda3\\envs\\venv_ml\\lib\\runpy.py\", line 193, in _run_module_as_main\r\n    \"__main__\", mod_spec)\r\n  File \"c:\\users\\bin\\anaconda3\\envs\\venv_ml\\lib\\runpy.py\", line 85, in _run_code\r\n    exec(code, run_globals)\r\n  File \"C:\\Users\\Bin\\Anaconda3\\envs\\venv_ml\\Scripts\\toco_from_protos.exe\\__main__.py\", line 9, in <module>\r\n  File \"c:\\users\\bin\\anaconda3\\envs\\venv_ml\\lib\\site-packages\\tensorflow_core\\lite\\toco\\python\\toco_from_protos.py\", line 89, in main\r\n    app.run(main=execute, argv=[sys.argv[0]] + unparsed)\r\n  File \"c:\\users\\bin\\anaconda3\\envs\\venv_ml\\lib\\site-packages\\tensorflow_core\\python\\platform\\app.py\", line 40, in run\r\n    _run(main=main, argv=argv, flags_parser=_parse_flags_tolerate_undef)\r\n  File \"c:\\users\\bin\\anaconda3\\envs\\venv_ml\\lib\\site-packages\\absl\\app.py\", line 300, in run\r\n    _run_main(main, args)\r\n  File \"c:\\users\\bin\\anaconda3\\envs\\venv_ml\\lib\\site-packages\\absl\\app.py\", line 251, in _run_main\r\n    sys.exit(main(argv))\r\n  File \"c:\\users\\bin\\anaconda3\\envs\\venv_ml\\lib\\site-packages\\tensorflow_core\\lite\\toco\\python\\toco_from_protos.py\", line 52, in execute\r\n    enable_mlir_converter)\r\nException: We are continually in the process of adding support to TensorFlow Lite for more ops. It would be helpful if you could inform us of how this conversion went by opening a github issue at https://github.com/tensorflow/tensorflow/issues/new?template=40-tflite-op-request.md\r\n and pasting the following:\r\n\r\nTensorFlow Lite currently doesn't support control flow ops: Enter, Exit, Merge, Switch. We are working on supporting control flow ops, please see github issue at https://github.com/tensorflow/tensorflow/issues/28485. Some of the operators in the model are not supported by the standard TensorFlow Lite runtime. If those are native TensorFlow operators, you might be able to use the extended runtime by passing --enable_select_tf_ops, or by setting target_ops=TFLITE_BUILTINS,SELECT_TF_OPS when calling tf.lite.TFLiteConverter(). Otherwise, if you have a custom implementation for them you can disable this error with --allow_custom_ops, or by setting allow_custom_ops=True when calling tf.lite.TFLiteConverter(). Here is a list of builtin operators you are using: ADD, FULLY_CONNECTED, LESS, LOGISTIC, MAXIMUM, MINIMUM, MUL, RANGE, RESHAPE, SPLIT, STRIDED_SLICE, TRANSPOSE. Here is a list of operators for which you will need custom implementations: LoopCond, TensorArrayGatherV3, TensorArrayReadV3, TensorArrayScatterV3, TensorArraySizeV3, TensorArrayV3, TensorArrayWriteV3.\r\n\n\n"
     ]
    }
   ],
   "source": [
    "model = tf.keras.Sequential()\n",
    "#Conv1D(3, 8, strides=1, activation='relu')\n",
    "#model.add(LSTM(128,input_shape=(140,3)))\n",
    "model.add(tf.keras.layers.LSTM(128,batch_input_shape=(1,140,3),stateful=True,activation='relu'))\n",
    "#model.add(tf.keras.Activation('relu'))\n",
    "\n",
    "#model.add(tf.keras.Dropout(0.2))\n",
    "\n",
    "#output layer = 출력 데이터 입력!\n",
    "model.add(tf.keras.layers.Dense(2, activation='sigmoid'))\n",
    "\n",
    "model.compile(loss=tf.keras.losses.MSE,\n",
    "              optimizer=tf.keras.optimizers.RMSprop(lr=0.0001),\n",
    "              metrics=[tf.keras.metrics.categorical_accuracy],\n",
    "              sample_weight_mode='temporal')\n",
    "\n",
    "\n",
    "\n",
    "#model.train_on_batch(X_train, y_train)\n",
    "#model.predict(x)\n",
    "# Save tf.keras model in HDF5 format.\n",
    "keras_file = \"keras_model.h5\"\n",
    "tf.keras.models.save_model(model, keras_file)\n",
    "# Convert to TensorFlow Lite model.\n",
    "converter = tf.lite.TFLiteConverter.from_keras_model_file(keras_file)\n",
    "tflite_model = converter.convert()\n",
    "open(\"converted_model.tflite\", \"wb\").write(tflite_model)\n"
   ]
  },
  {
   "cell_type": "code",
   "execution_count": null,
   "metadata": {},
   "outputs": [],
   "source": []
  },
  {
   "cell_type": "code",
   "execution_count": null,
   "metadata": {},
   "outputs": [],
   "source": [
    "\n",
    "\n",
    "# Generate tf.keras model.\n",
    "model = tf.keras.models.Sequential()\n",
    "model.add(tf.keras.layers.Dense(2, input_shape=(3,)))\n",
    "model.add(tf.keras.layers.RepeatVector(3))\n",
    "model.add(tf.keras.layers.TimeDistributed(tf.keras.layers.Dense(3)))\n",
    "model.compile(loss=tf.keras.losses.MSE,\n",
    "              optimizer=tf.keras.optimizers.RMSprop(lr=0.0001),\n",
    "              metrics=[tf.keras.metrics.categorical_accuracy],\n",
    "              sample_weight_mode='temporal')\n",
    "\n",
    "x = np.random.random((1, 3))\n",
    "y = np.random.random((1, 3, 3))\n",
    "model.train_on_batch(x, y)\n",
    "model.predict(x)\n",
    "\n",
    "# Save tf.keras model in HDF5 format.\n",
    "keras_file = \"keras_model.h5\"\n",
    "tf.keras.models.save_model(model, keras_file)\n",
    "\n",
    "# Convert to TensorFlow Lite model.\n",
    "converter = tf.lite.TFLiteConverter.from_keras_model_file(keras_file)\n",
    "tflite_model = converter.convert()\n",
    "open(\"converted_model.tflite\", \"wb\").write(tflite_model)"
   ]
  },
  {
   "cell_type": "code",
   "execution_count": null,
   "metadata": {},
   "outputs": [],
   "source": []
  }
 ],
 "metadata": {
  "kernelspec": {
   "display_name": "Python 3",
   "language": "python",
   "name": "python3"
  },
  "language_info": {
   "codemirror_mode": {
    "name": "ipython",
    "version": 3
   },
   "file_extension": ".py",
   "mimetype": "text/x-python",
   "name": "python",
   "nbconvert_exporter": "python",
   "pygments_lexer": "ipython3",
   "version": "3.7.4"
  }
 },
 "nbformat": 4,
 "nbformat_minor": 2
}
